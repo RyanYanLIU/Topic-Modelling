{
 "cells": [
  {
   "cell_type": "code",
   "execution_count": 2,
   "metadata": {},
   "outputs": [],
   "source": [
    "import pandas as pd\n",
    "import numpy as np\n",
    "\n",
    "import re\n",
    "import string  ## Punctuation Removal Library\n",
    "\n",
    "import gensim\n",
    "from gensim import corpora\n",
    "\n",
    "##Libraries for Visualization\n",
    "import seaborn as sns\n",
    "import matplotlib.pyplot as plt "
   ]
  },
  {
   "cell_type": "code",
   "execution_count": 3,
   "metadata": {},
   "outputs": [
    {
     "data": {
      "text/html": [
       "<div>\n",
       "<style scoped>\n",
       "    .dataframe tbody tr th:only-of-type {\n",
       "        vertical-align: middle;\n",
       "    }\n",
       "\n",
       "    .dataframe tbody tr th {\n",
       "        vertical-align: top;\n",
       "    }\n",
       "\n",
       "    .dataframe thead th {\n",
       "        text-align: right;\n",
       "    }\n",
       "</style>\n",
       "<table border=\"1\" class=\"dataframe\">\n",
       "  <thead>\n",
       "    <tr style=\"text-align: right;\">\n",
       "      <th></th>\n",
       "      <th>data</th>\n",
       "      <th>target</th>\n",
       "    </tr>\n",
       "  </thead>\n",
       "  <tbody>\n",
       "    <tr>\n",
       "      <th>0</th>\n",
       "      <td>Bromwell High is a cartoon comedy. It ran at t...</td>\n",
       "      <td>1</td>\n",
       "    </tr>\n",
       "    <tr>\n",
       "      <th>1</th>\n",
       "      <td>Homelessness (or Houselessness as George Carli...</td>\n",
       "      <td>1</td>\n",
       "    </tr>\n",
       "    <tr>\n",
       "      <th>2</th>\n",
       "      <td>Brilliant over-acting by Lesley Ann Warren. Be...</td>\n",
       "      <td>1</td>\n",
       "    </tr>\n",
       "    <tr>\n",
       "      <th>3</th>\n",
       "      <td>This is easily the most underrated film inn th...</td>\n",
       "      <td>1</td>\n",
       "    </tr>\n",
       "    <tr>\n",
       "      <th>4</th>\n",
       "      <td>This is not the typical Mel Brooks film. It wa...</td>\n",
       "      <td>1</td>\n",
       "    </tr>\n",
       "  </tbody>\n",
       "</table>\n",
       "</div>"
      ],
      "text/plain": [
       "                                                data  target\n",
       "0  Bromwell High is a cartoon comedy. It ran at t...       1\n",
       "1  Homelessness (or Houselessness as George Carli...       1\n",
       "2  Brilliant over-acting by Lesley Ann Warren. Be...       1\n",
       "3  This is easily the most underrated film inn th...       1\n",
       "4  This is not the typical Mel Brooks film. It wa...       1"
      ]
     },
     "execution_count": 3,
     "metadata": {},
     "output_type": "execute_result"
    }
   ],
   "source": [
    "link = 'C:\\\\Python Software\\\\Sentiment Analysis'\n",
    "\n",
    "data = pd.read_csv(link + '\\\\' + 'Train review within textblob.csv')\n",
    "data.head()"
   ]
  },
  {
   "cell_type": "markdown",
   "metadata": {},
   "source": [
    "# Explanation for clean_text function"
   ]
  },
  {
   "cell_type": "code",
   "execution_count": 4,
   "metadata": {},
   "outputs": [
    {
     "name": "stdout",
     "output_type": "stream",
     "text": [
      "{'!': '', '\"': '', '#': '', '$': '', '%': '', '&': '', \"'\": '', '(': '', ')': '', '*': '', '+': '', ',': '', '-': '', '.': '', '/': '', ':': '', ';': '', '<': '', '=': '', '>': '', '?': '', '@': '', '[': '', '\\\\': '', ']': '', '^': '', '_': '', '`': '', '{': '', '|': '', '}': '', '~': '', ' ': ' '}\n",
      "{33: '', 34: '', 35: '', 36: '', 37: '', 38: '', 39: '', 40: '', 41: '', 42: '', 43: '', 44: '', 45: '', 46: '', 47: '', 58: '', 59: '', 60: '', 61: '', 62: '', 63: '', 64: '', 91: '', 92: '', 93: '', 94: '', 95: '', 96: '', 123: '', 124: '', 125: '', 126: '', 32: ' '}\n",
      "0        Bromwell High is a cartoon comedy It ran at t\n",
      "1        Homelessness or Houselessness as George Carli\n",
      "2        Brilliant overacting by Lesley Ann Warren Be\n",
      "3        This is easily the most underrated film inn th\n",
      "4        This is not the typical Mel Brooks film It wa\n",
      "                                                       \n",
      "24995    Towards the end of the movie I felt it was to\n",
      "24996    This is the kind of movie that my enemies cont\n",
      "24997    I saw Descent last night at the Stockholm Fi\n",
      "24998    Some films that you pick up for a pound turn o\n",
      "24999    This is one of the dumbest films Ive ever se\n",
      "Name data Length 25000 dtype object\n",
      "['0', 'Bromwell', 'High', 'is', 'a', 'cartoon', 'comedy', 'It', 'ran', 'at', 't', '1', 'Homelessness', 'or', 'Houselessness', 'as', 'George', 'Carli', '2', 'Brilliant', 'overacting', 'by', 'Lesley', 'Ann', 'Warren', 'Be', '3', 'This', 'is', 'easily', 'the', 'most', 'underrated', 'film', 'inn', 'th', '4', 'This', 'is', 'not', 'the', 'typical', 'Mel', 'Brooks', 'film', 'It', 'wa', '24995', 'Towards', 'the', 'end', 'of', 'the', 'movie', 'I', 'felt', 'it', 'was', 'to', '24996', 'This', 'is', 'the', 'kind', 'of', 'movie', 'that', 'my', 'enemies', 'cont', '24997', 'I', 'saw', 'Descent', 'last', 'night', 'at', 'the', 'Stockholm', 'Fi', '24998', 'Some', 'films', 'that', 'you', 'pick', 'up', 'for', 'a', 'pound', 'turn', 'o', '24999', 'This', 'is', 'one', 'of', 'the', 'dumbest', 'films', 'Ive', 'ever', 'se', 'Name', 'data', 'Length', '25000', 'dtype', 'object']\n",
      "bromwell high cartoon comedy homelessness houselessness george carli brilliant overacting lesley warren this easily most underrated film this typical brooks film towards movie felt this kind movie that enemies cont descent last night stockholm some films that pick pound turn this dumbest films ever name data length dtype object\n"
     ]
    }
   ],
   "source": [
    "delete_dict = {sp_character: '' for sp_character in string.punctuation}\n",
    "delete_dict[' '] = ' '\n",
    "\n",
    "table = str.maketrans(delete_dict) ##Transfer punctations into the numeric value\n",
    "text1 = str(data['data']).translate(table)\n",
    "\n",
    "textArr= text1.split()\n",
    "text2 = ' '.join([w for w in textArr if ( not w.isdigit() and  ( not w.isdigit() and len(w)>3))]) \n",
    "\n",
    "print(delete_dict)\n",
    "print(table)\n",
    "print(text1)\n",
    "print(textArr)\n",
    "print(text2.lower())"
   ]
  },
  {
   "cell_type": "code",
   "execution_count": 5,
   "metadata": {},
   "outputs": [],
   "source": [
    "def clean_text(text): \n",
    "    delete_dict = {sp_character: '' for sp_character in string.punctuation} \n",
    "    delete_dict[' '] = ' ' \n",
    "    table = str.maketrans(delete_dict)\n",
    "    text1 = text.translate(table)\n",
    "    #print('cleaned:'+text1)\n",
    "    textArr= text1.split()\n",
    "    text2 = ' '.join([w for w in textArr if ( not w.isdigit() and  ( not w.isdigit() and len(w)>3))]) \n",
    "    \n",
    "    return text2.lower()"
   ]
  },
  {
   "cell_type": "code",
   "execution_count": 6,
   "metadata": {},
   "outputs": [
    {
     "data": {
      "text/plain": [
       "0        bromwell high cartoon comedy same time some ot...\n",
       "1        homelessness houselessness george carlin state...\n",
       "2        brilliant overacting lesley warren best dramat...\n",
       "3        this easily most underrated film brooks cannon...\n",
       "4        this typical brooks film much less slapstick t...\n",
       "                               ...                        \n",
       "24995    towards movie felt technical felt like classro...\n",
       "24996    this kind movie that enemies content watch tim...\n",
       "24997    descent last night stockholm film festival hug...\n",
       "24998    some films that pick pound turn rather good 23...\n",
       "24999    this dumbest films ever seen rips nearly ever ...\n",
       "Name: data, Length: 25000, dtype: object"
      ]
     },
     "execution_count": 6,
     "metadata": {},
     "output_type": "execute_result"
    }
   ],
   "source": [
    "data['data'] = data['data'].apply(clean_text)\n",
    "\n",
    "data.data"
   ]
  },
  {
   "cell_type": "code",
   "execution_count": 7,
   "metadata": {},
   "outputs": [
    {
     "data": {
      "text/plain": [
       "0        bromwell high cartoon comedy time programs sch...\n",
       "1        homelessness houselessness george carlin state...\n",
       "2        brilliant overacting lesley warren best dramat...\n",
       "3        easily underrated film brooks cannon sure flaw...\n",
       "4        typical brooks film much less slapstick movies...\n",
       "                               ...                        \n",
       "24995    towards movie felt technical felt like classro...\n",
       "24996    kind movie enemies content watch time bloody t...\n",
       "24997    descent last night stockholm film festival hug...\n",
       "24998    films pick pound turn rather good 23rd century...\n",
       "24999    dumbest films ever seen rips nearly ever type ...\n",
       "Name: data, Length: 25000, dtype: object"
      ]
     },
     "execution_count": 7,
     "metadata": {},
     "output_type": "execute_result"
    }
   ],
   "source": [
    "from nltk.corpus import stopwords\n",
    "\n",
    "Stopwords = set(stopwords.words('english'))\n",
    "\n",
    "def remove_stopwords(text):\n",
    "    text1 = text.split(' ')\n",
    "    text2 = ' '.join([word for word in text1 if word not in Stopwords])\n",
    "    return text2\n",
    "\n",
    "data['data'] = data['data'].apply(remove_stopwords)\n",
    "data['data']"
   ]
  },
  {
   "cell_type": "code",
   "execution_count": 8,
   "metadata": {},
   "outputs": [],
   "source": [
    "import spacy\n",
    "nlp = spacy.load('en_core_web_sm', disable=['parser', 'ner'])\n",
    "\n",
    "def lemmatization(texts,allowed_postags=['NOUN', 'ADJ']): \n",
    "    output = []\n",
    "    for sent in texts:\n",
    "        doc = nlp(sent) \n",
    "        output.append([token.lemma_ for token in doc if token.pos_ in allowed_postags ])\n",
    "    return output"
   ]
  },
  {
   "cell_type": "code",
   "execution_count": 9,
   "metadata": {},
   "outputs": [
    {
     "name": "stdout",
     "output_type": "stream",
     "text": [
      "homelessness houselessness george carlin stated issue years never plan help street considered human everything going school work vote matter people think homeless lost cause worrying things racism iraq pressuring kids succeed technology elections inflation worrying theyll next streetsbr given live streets month without luxuries home entertainment sets bathroom pictures wall computer everything treasure like homeless goddard bolts lessonbr brooks directs stars bolt plays rich everything world deciding make sissy rival jeffery tambor live streets thirty days without luxuries bolt succeeds wants future project making buildings bets bolt thrown street bracelet monitor every move cant step sidewalk given nickname pepto vagrant written forehead bolt meets characters including woman name molly lesley warren exdancer divorce losing home pals sailor howard morris fumes teddy wilson already used streets theyre survivors bolt isnt used reaching mutual agreements like rich fight flight kill killedbr love connection molly bolt wasnt necessary plot found life stinks brooks observant films prior comedy shows tender side compared slapstick work blazing saddles young frankenstein spaceballs matter show like something valuable losing next hand making stupid like rich people dont know money maybe give homeless instead using like monopoly moneybr maybe film inspire help others\n",
      "['homelessness', 'houselessness', 'george', 'carlin', 'issue', 'year', 'street', 'human', 'school', 'work', 'vote', 'matter', 'people', 'homeless', 'lost', 'cause', 'thing', 'racism', 'iraq', 'kid', 'technology', 'election', 'inflation', 'next', 'streetsbr', 'live', 'street', 'month', 'luxury', 'home', 'entertainment', 'set', 'bathroom', 'wall', 'computer', 'homeless', 'goddard', 'bolt', 'lessonbr', 'brook', 'star', 'bolt', 'rich', 'world', 'sissy', 'rival', 'jeffery', 'tambor', 'live', 'street', 'day', 'luxury', 'bolt', 'future', 'project', 'building', 'bet', 'bolt', 'street', 'bracelet', 'monitor', 'move', 'sidewalk', 'nickname', 'pepto', 'vagrant', 'forehead', 'bolt', 'character', 'woman', 'name', 'warren', 'exdancer', 'divorce', 'home', 'pal', 'sailor', 'howard', 'morris', 'fume', 'teddy', 'wilson', 'street', 'survivor', 'bolt', 'mutual', 'agreement', 'rich', 'fight', 'flight', 'kill', 'love', 'connection', 'bolt', 'necessary', 'plot', 'life', 'brook', 'observant', 'film', 'prior', 'comedy', 'tender', 'side', 'slapstick', 'work', 'blazing', 'young', 'frankenstein', 'spaceball', 'valuable', 'next', 'hand', 'stupid', 'rich', 'people', 'money', 'homeless', 'monopoly', 'moneybr', 'inspire', 'other']\n"
     ]
    }
   ],
   "source": [
    "text_list = data['data'].tolist()\n",
    "print(text_list[1])\n",
    "tokenized_reviews = lemmatization(text_list)\n",
    "print(tokenized_reviews[1])"
   ]
  },
  {
   "cell_type": "code",
   "execution_count": 10,
   "metadata": {},
   "outputs": [],
   "source": [
    "dictionary = corpora.Dictionary(tokenized_reviews) ## Mapping between words and their position IDs, formatting is dictionary \n",
    "doc_term_matrix = [dictionary.doc2bow(rev) for rev in tokenized_reviews] # Convert document into the bag-of-words (BoW) format = list of (token_id, token_count) tuples"
   ]
  },
  {
   "cell_type": "code",
   "execution_count": 11,
   "metadata": {},
   "outputs": [],
   "source": [
    "##Create object for LDA using gensim library\n",
    "\n",
    "LDA = gensim.models.ldamodel.LdaModel\n",
    "\n",
    "#Build LDA Model\n",
    "lda_model = LDA(corpus = doc_term_matrix, id2word = dictionary, num_topics = 10, random_state = 10,\n",
    "               chunksize = 1000, passes = 50, iterations = 100)\n"
   ]
  },
  {
   "cell_type": "code",
   "execution_count": 15,
   "metadata": {},
   "outputs": [
    {
     "data": {
      "text/plain": [
       "[(6234, 0.02848127),\n",
       " (6242, 0.027664414),\n",
       " (11543, 0.019096201),\n",
       " (10002, 0.012158086),\n",
       " (9998, 0.008064832),\n",
       " (5194, 0.006314107),\n",
       " (3493, 0.006216721),\n",
       " (5378, 0.0058359713),\n",
       " (9996, 0.0055251056),\n",
       " (3451, 0.0054822913)]"
      ]
     },
     "execution_count": 15,
     "metadata": {},
     "output_type": "execute_result"
    }
   ],
   "source": [
    "lda_model.get_topic_terms(topicid = 7) ##Given topic ID, the top word ID and word proba associated with this topic"
   ]
  },
  {
   "cell_type": "code",
   "execution_count": 17,
   "metadata": {},
   "outputs": [
    {
     "data": {
      "text/plain": [
       "[('dragon', 0.02848127),\n",
       " ('rubbish', 0.027664414),\n",
       " ('dude', 0.019096201),\n",
       " ('psychotic', 0.012158086),\n",
       " ('helen', 0.008064832),\n",
       " ('wanna', 0.006314107),\n",
       " ('joey', 0.006216721),\n",
       " ('dungeon', 0.0058359713),\n",
       " ('fishing', 0.0055251056),\n",
       " ('intentional', 0.0054822913)]"
      ]
     },
     "execution_count": 17,
     "metadata": {},
     "output_type": "execute_result"
    }
   ],
   "source": [
    "lda_model.show_topic(topicid = 7) ##Given topic ID, the top word and word proba assocaited with this topic"
   ]
  },
  {
   "cell_type": "code",
   "execution_count": 19,
   "metadata": {},
   "outputs": [
    {
     "data": {
      "text/plain": [
       "[(7,\n",
       "  '0.028*\"dragon\" + 0.028*\"rubbish\" + 0.019*\"dude\" + 0.012*\"psychotic\" + 0.008*\"helen\" + 0.006*\"wanna\" + 0.006*\"joey\" + 0.006*\"dungeon\" + 0.006*\"fishing\" + 0.005*\"intentional\"'),\n",
       " (3,\n",
       "  '0.018*\"cage\" + 0.017*\"sean\" + 0.016*\"jerry\" + 0.014*\"forgettable\" + 0.009*\"eddie\" + 0.009*\"drivel\" + 0.009*\"murphy\" + 0.007*\"photographer\" + 0.007*\"flop\" + 0.006*\"civil\"'),\n",
       " (5,\n",
       "  '0.060*\"film\" + 0.013*\"character\" + 0.011*\"story\" + 0.007*\"time\" + 0.007*\"scene\" + 0.007*\"good\" + 0.006*\"director\" + 0.006*\"life\" + 0.005*\"many\" + 0.005*\"people\"'),\n",
       " (4,\n",
       "  '0.030*\"series\" + 0.027*\"show\" + 0.022*\"episode\" + 0.013*\"action\" + 0.008*\"alien\" + 0.008*\"original\" + 0.008*\"star\" + 0.007*\"season\" + 0.006*\"soldier\" + 0.006*\"cartoon\"'),\n",
       " (6,\n",
       "  '0.020*\"moore\" + 0.014*\"brook\" + 0.011*\"logical\" + 0.011*\"leslie\" + 0.010*\"clothing\" + 0.007*\"senior\" + 0.006*\"policy\" + 0.006*\"brit\" + 0.006*\"moneybr\" + 0.005*\"lunch\"'),\n",
       " (2,\n",
       "  '0.014*\"voiceover\" + 0.009*\"camcorder\" + 0.008*\"greek\" + 0.007*\"tail\" + 0.007*\"duck\" + 0.006*\"file\" + 0.005*\"witchcraft\" + 0.005*\"marilyn\" + 0.005*\"surfing\" + 0.005*\"banter\"'),\n",
       " (9,\n",
       "  '0.022*\"horror\" + 0.012*\"killer\" + 0.010*\"dead\" + 0.010*\"house\" + 0.009*\"zombie\" + 0.008*\"blood\" + 0.007*\"gore\" + 0.007*\"death\" + 0.007*\"night\" + 0.007*\"girl\"')]"
      ]
     },
     "execution_count": 19,
     "metadata": {},
     "output_type": "execute_result"
    }
   ],
   "source": [
    "lda_model.show_topics(num_topics = 7, num_words = 10)"
   ]
  },
  {
   "cell_type": "code",
   "execution_count": 11,
   "metadata": {},
   "outputs": [
    {
     "data": {
      "text/plain": [
       "[(0,\n",
       "  '0.095*\"movie\" + 0.024*\"good\" + 0.018*\"time\" + 0.013*\"film\" + 0.013*\"thing\" + 0.012*\"people\" + 0.011*\"character\" + 0.010*\"scene\" + 0.010*\"plot\" + 0.010*\"bad\"'),\n",
       " (1,\n",
       "  '0.038*\"musical\" + 0.025*\"version\" + 0.020*\"dance\" + 0.020*\"song\" + 0.019*\"jane\" + 0.017*\"number\" + 0.014*\"ugly\" + 0.014*\"martial\" + 0.013*\"art\" + 0.008*\"tarzan\"'),\n",
       " (2,\n",
       "  '0.014*\"voiceover\" + 0.009*\"camcorder\" + 0.008*\"greek\" + 0.007*\"tail\" + 0.007*\"duck\" + 0.006*\"file\" + 0.005*\"witchcraft\" + 0.005*\"marilyn\" + 0.005*\"surfing\" + 0.005*\"banter\"'),\n",
       " (3,\n",
       "  '0.018*\"cage\" + 0.017*\"sean\" + 0.016*\"jerry\" + 0.014*\"forgettable\" + 0.009*\"eddie\" + 0.009*\"drivel\" + 0.009*\"murphy\" + 0.007*\"photographer\" + 0.007*\"flop\" + 0.006*\"civil\"'),\n",
       " (4,\n",
       "  '0.030*\"series\" + 0.027*\"show\" + 0.022*\"episode\" + 0.013*\"action\" + 0.008*\"alien\" + 0.008*\"original\" + 0.008*\"star\" + 0.007*\"season\" + 0.006*\"soldier\" + 0.006*\"cartoon\"'),\n",
       " (5,\n",
       "  '0.060*\"film\" + 0.013*\"character\" + 0.011*\"story\" + 0.007*\"time\" + 0.007*\"scene\" + 0.007*\"good\" + 0.006*\"director\" + 0.006*\"life\" + 0.005*\"many\" + 0.005*\"people\"'),\n",
       " (6,\n",
       "  '0.020*\"moore\" + 0.014*\"brook\" + 0.011*\"logical\" + 0.011*\"leslie\" + 0.010*\"clothing\" + 0.007*\"senior\" + 0.006*\"policy\" + 0.006*\"brit\" + 0.006*\"moneybr\" + 0.005*\"lunch\"'),\n",
       " (7,\n",
       "  '0.028*\"dragon\" + 0.028*\"rubbish\" + 0.019*\"dude\" + 0.012*\"psychotic\" + 0.008*\"helen\" + 0.006*\"wanna\" + 0.006*\"joey\" + 0.006*\"dungeon\" + 0.006*\"fishing\" + 0.005*\"intentional\"'),\n",
       " (8,\n",
       "  '0.010*\"role\" + 0.009*\"comedy\" + 0.009*\"family\" + 0.008*\"young\" + 0.008*\"wife\" + 0.008*\"john\" + 0.008*\"father\" + 0.007*\"woman\" + 0.007*\"love\" + 0.007*\"mother\"'),\n",
       " (9,\n",
       "  '0.022*\"horror\" + 0.012*\"killer\" + 0.010*\"dead\" + 0.010*\"house\" + 0.009*\"zombie\" + 0.008*\"blood\" + 0.007*\"gore\" + 0.007*\"death\" + 0.007*\"night\" + 0.007*\"girl\"')]"
      ]
     },
     "execution_count": 11,
     "metadata": {},
     "output_type": "execute_result"
    }
   ],
   "source": [
    "lda_model.print_topics()"
   ]
  },
  {
   "cell_type": "code",
   "execution_count": 12,
   "metadata": {},
   "outputs": [
    {
     "name": "stdout",
     "output_type": "stream",
     "text": [
      "\n",
      "Perplexity:  -9.706454113010418\n"
     ]
    }
   ],
   "source": [
    "## Measure how good the model is\n",
    "print('\\nPerplexity: ', lda_model.log_perplexity(doc_term_matrix,total_docs=10000))  # a measure of how good the model is. lower the better."
   ]
  },
  {
   "cell_type": "code",
   "execution_count": 1,
   "metadata": {},
   "outputs": [
    {
     "ename": "NameError",
     "evalue": "name 'lda_model' is not defined",
     "output_type": "error",
     "traceback": [
      "\u001b[1;31m---------------------------------------------------------------------------\u001b[0m",
      "\u001b[1;31mNameError\u001b[0m                                 Traceback (most recent call last)",
      "\u001b[1;32m<ipython-input-1-8effb24525a9>\u001b[0m in \u001b[0;36m<module>\u001b[1;34m\u001b[0m\n\u001b[0;32m      4\u001b[0m \u001b[1;33m\u001b[0m\u001b[0m\n\u001b[0;32m      5\u001b[0m \u001b[1;32mwith\u001b[0m \u001b[0mopen\u001b[0m\u001b[1;33m(\u001b[0m\u001b[0mmodel\u001b[0m\u001b[1;33m,\u001b[0m \u001b[1;34m'wb'\u001b[0m\u001b[1;33m)\u001b[0m \u001b[1;32mas\u001b[0m \u001b[0mf\u001b[0m\u001b[1;33m:\u001b[0m\u001b[1;33m\u001b[0m\u001b[0m\n\u001b[1;32m----> 6\u001b[1;33m     \u001b[0mpickle\u001b[0m\u001b[1;33m.\u001b[0m\u001b[0mdump\u001b[0m\u001b[1;33m(\u001b[0m\u001b[0mlda_model\u001b[0m\u001b[1;33m,\u001b[0m \u001b[0mf\u001b[0m\u001b[1;33m)\u001b[0m\u001b[1;33m\u001b[0m\u001b[0m\n\u001b[0m",
      "\u001b[1;31mNameError\u001b[0m: name 'lda_model' is not defined"
     ]
    }
   ],
   "source": [
    "#Save the model\n",
    "import pickle\n",
    "model = 'LDA_10_topics.pkl'\n",
    "\n",
    "with open(model, 'wb') as f:  \n",
    "    pickle.dump(lda_model, f)"
   ]
  },
  {
   "cell_type": "code",
   "execution_count": 20,
   "metadata": {},
   "outputs": [
    {
     "data": {
      "text/html": [
       "\n",
       "<link rel=\"stylesheet\" type=\"text/css\" href=\"https://cdn.jsdelivr.net/gh/bmabey/pyLDAvis@3.2.2/pyLDAvis/js/ldavis.v1.0.0.css\">\n",
       "\n",
       "\n",
       "<div id=\"ldavis_el140814691349480565609312681\"></div>\n",
       "<script type=\"text/javascript\">\n",
       "\n",
       "var ldavis_el140814691349480565609312681_data = {\"mdsDat\": {\"x\": [0.3197509944878172, 0.34313556177652776, 0.17407871182216525, 0.1597249863197564, 0.06045804796269695, -0.1861044424695643, -0.21399667820183768, -0.21948324805309585, -0.21915618558359934, -0.21840774806086638], \"y\": [0.14426817199118136, 0.13310153729569282, 0.025089418489436972, -0.2423279831032096, -0.26002215020044533, 0.055943640491800194, 0.039060059288805606, 0.03580596425592048, 0.03505697157174845, 0.03402436991906879], \"topics\": [1, 2, 3, 4, 5, 6, 7, 8, 9, 10], \"cluster\": [1, 1, 1, 1, 1, 1, 1, 1, 1, 1], \"Freq\": [41.93930639348656, 31.0168816463482, 9.43646145097972, 9.039048698815952, 5.379787302971781, 1.3158033599191628, 0.9085644670267798, 0.3603697721256819, 0.3281225332840396, 0.2756543750421301]}, \"tinfo\": {\"Term\": [\"movie\", \"film\", \"show\", \"horror\", \"series\", \"version\", \"good\", \"action\", \"episode\", \"bad\", \"song\", \"time\", \"thing\", \"role\", \"original\", \"comedy\", \"character\", \"first\", \"number\", \"people\", \"young\", \"production\", \"killer\", \"woman\", \"family\", \"star\", \"novel\", \"dead\", \"girl\", \"plot\", \"element\", \"thriller\", \"subject\", \"tale\", \"french\", \"nature\", \"atmosphere\", \"bored\", \"german\", \"society\", \"emotional\", \"political\", \"social\", \"beauty\", \"werewolf\", \"prison\", \"culture\", \"century\", \"witch\", \"narrative\", \"cinematic\", \"clich\\u00e9\", \"portrayal\", \"intention\", \"powerful\", \"unfunny\", \"medium\", \"historical\", \"pretentious\", \"apparent\", \"american\", \"film\", \"country\", \"state\", \"modern\", \"viewer\", \"event\", \"history\", \"director\", \"fine\", \"world\", \"cinema\", \"style\", \"audience\", \"performance\", \"work\", \"strong\", \"character\", \"story\", \"life\", \"filmmaker\", \"many\", \"city\", \"interesting\", \"real\", \"point\", \"scene\", \"much\", \"young\", \"woman\", \"fact\", \"time\", \"moment\", \"place\", \"little\", \"people\", \"good\", \"great\", \"actor\", \"role\", \"year\", \"plot\", \"part\", \"first\", \"thing\", \"movie\", \"bad\", \"stupid\", \"awful\", \"terrible\", \"kid\", \"joke\", \"boring\", \"waste\", \"crap\", \"annoying\", \"lame\", \"dumb\", \"pointless\", \"cheesy\", \"vampire\", \"disney\", \"imdb\", \"laughable\", \"teen\", \"rent\", \"video\", \"moviebr\", \"unnecessary\", \"chick\", \"bland\", \"watching\", \"lousy\", \"crappy\", \"unrealistic\", \"horrible\", \"review\", \"rating\", \"watch\", \"funny\", \"laugh\", \"minute\", \"thing\", \"good\", \"money\", \"time\", \"plot\", \"line\", \"people\", \"well\", \"whole\", \"hour\", \"actor\", \"first\", \"scene\", \"original\", \"part\", \"character\", \"great\", \"story\", \"little\", \"film\", \"script\", \"much\", \"many\", \"year\", \"mary\", \"steve\", \"martin\", \"santa\", \"keaton\", \"tony\", \"arthur\", \"nick\", \"uncle\", \"stewart\", \"obnoxious\", \"joan\", \"executive\", \"anne\", \"parker\", \"virus\", \"grant\", \"lewis\", \"hardy\", \"columbo\", \"africa\", \"victor\", \"winter\", \"married\", \"slave\", \"jimmy\", \"walter\", \"stan\", \"dracula\", \"corrupt\", \"jack\", \"handsome\", \"wayne\", \"daughter\", \"taylor\", \"husband\", \"charlie\", \"mother\", \"john\", \"wife\", \"wedding\", \"father\", \"sister\", \"jame\", \"family\", \"comedy\", \"george\", \"role\", \"paul\", \"lady\", \"young\", \"brother\", \"peter\", \"richard\", \"woman\", \"love\", \"robert\", \"girl\", \"star\", \"year\", \"friend\", \"great\", \"performance\", \"good\", \"cast\", \"little\", \"killer\", \"zombie\", \"blood\", \"gore\", \"slasher\", \"scientist\", \"disappointing\", \"cop\", \"amateur\", \"ford\", \"gory\", \"killing\", \"cabin\", \"flesh\", \"lake\", \"football\", \"knife\", \"cell\", \"breast\", \"prom\", \"freddy\", \"lynch\", \"scarecrow\", \"shark\", \"joseph\", \"korean\", \"inspector\", \"cowboy\", \"metal\", \"massacre\", \"police\", \"horror\", \"dead\", \"doctor\", \"nightmare\", \"dirty\", \"house\", \"victim\", \"rape\", \"monster\", \"ghost\", \"murder\", \"body\", \"kill\", \"scare\", \"game\", \"creepy\", \"nudity\", \"revenge\", \"head\", \"death\", \"night\", \"wood\", \"violence\", \"evil\", \"documentary\", \"girl\", \"town\", \"woman\", \"flick\", \"scene\", \"room\", \"series\", \"episode\", \"alien\", \"season\", \"planet\", \"superman\", \"batman\", \"pilot\", \"gun\", \"robot\", \"program\", \"sheriff\", \"war\", \"seagal\", \"stupidity\", \"ranger\", \"luke\", \"warrior\", \"simpson\", \"okay\", \"gadget\", \"anime\", \"duke\", \"clark\", \"franchise\", \"slug\", \"vietnam\", \"fighter\", \"trek\", \"burt\", \"ship\", \"show\", \"science\", \"cartoon\", \"soldier\", \"military\", \"captain\", \"machine\", \"scifi\", \"space\", \"action\", \"fight\", \"army\", \"battle\", \"match\", \"earth\", \"hero\", \"television\", \"star\", \"villain\", \"original\", \"first\", \"team\", \"human\", \"power\", \"musical\", \"jane\", \"ugly\", \"martial\", \"art\", \"tarzan\", \"gruesome\", \"branagh\", \"rochester\", \"hideous\", \"pitch\", \"brando\", \"invasion\", \"hamlet\", \"emma\", \"basket\", \"choreography\", \"christianity\", \"powell\", \"kenneth\", \"midget\", \"squad\", \"latin\", \"anyone\", \"shaw\", \"austin\", \"cagney\", \"marlon\", \"ginger\", \"clarke\", \"dance\", \"dancing\", \"dancer\", \"version\", \"song\", \"number\", \"singing\", \"shakespeare\", \"stage\", \"novel\", \"adaptation\", \"production\", \"cage\", \"sean\", \"jerry\", \"forgettable\", \"eddie\", \"drivel\", \"murphy\", \"photographer\", \"flop\", \"civil\", \"jamie\", \"sinatra\", \"hopper\", \"navy\", \"farmer\", \"racial\", \"lucy\", \"kirk\", \"victoria\", \"boyle\", \"niro\", \"springer\", \"switch\", \"cole\", \"flynn\", \"connery\", \"olivier\", \"kathryn\", \"drake\", \"handle\", \"dragon\", \"rubbish\", \"dude\", \"psychotic\", \"helen\", \"wanna\", \"joey\", \"dungeon\", \"fishing\", \"intentional\", \"scratch\", \"garage\", \"showing\", \"gellar\", \"herman\", \"olivia\", \"closure\", \"yearbr\", \"verge\", \"ounce\", \"lotbr\", \"picnic\", \"therapist\", \"flood\", \"pioneer\", \"laundry\", \"sammo\", \"lostbr\", \"hohum\", \"philippine\", \"voiceover\", \"camcorder\", \"greek\", \"tail\", \"duck\", \"file\", \"witchcraft\", \"marilyn\", \"surfing\", \"banter\", \"worried\", \"skinny\", \"razor\", \"signal\", \"fetish\", \"bout\", \"isolated\", \"sissy\", \"burial\", \"untalented\", \"clarity\", \"triple\", \"monroe\", \"firsttime\", \"naughty\", \"butch\", \"surf\", \"accusation\", \"parrot\", \"careerbr\", \"anchorman\", \"moore\", \"brook\", \"logical\", \"leslie\", \"clothing\", \"senior\", \"policy\", \"brit\", \"moneybr\", \"lunch\", \"sack\", \"discernible\", \"clause\", \"bach\", \"collar\", \"valerie\", \"communism\", \"stalwart\", \"shakespearean\", \"demi\", \"showtime\", \"vera\", \"banker\", \"accentbr\", \"fetched\", \"ridley\", \"nodding\", \"southwest\", \"believablebr\", \"unconnected\"], \"Freq\": [50848.0, 50363.0, 4204.0, 3988.0, 2786.0, 2315.0, 18783.0, 3333.0, 2061.0, 5171.0, 1586.0, 15227.0, 8978.0, 4138.0, 3947.0, 3375.0, 15448.0, 6603.0, 1288.0, 9885.0, 4213.0, 2214.0, 1860.0, 5156.0, 3065.0, 3295.0, 1214.0, 1979.0, 4348.0, 7616.0, 1312.209357896003, 926.6217564029147, 888.5540194654172, 842.0690440717178, 791.1141804404435, 704.2700631353421, 689.6187251793093, 667.30610628825, 661.4602069107092, 629.8222355399141, 614.2493243759943, 608.4203547900927, 586.5231083369044, 542.2244462355086, 537.8389106847766, 534.9549206790161, 513.220835092752, 511.58863388080385, 506.5289117025145, 503.26302792184987, 500.97818324220543, 480.45745582273224, 464.07149141533347, 461.16439224398533, 460.97668317918425, 451.2296942386709, 447.7391944474314, 439.99711608180604, 439.75493541240536, 437.19159566029396, 2423.0412144129664, 43400.17909772981, 1022.9161257255711, 888.507039293618, 855.4050641908117, 1796.7421954866347, 1164.0945046955533, 1135.8422377057502, 4457.675424482188, 1222.9687016109167, 2928.6243856300284, 1366.2672830368508, 1426.6527178028994, 2388.229499652504, 3286.753812010157, 2803.344266094795, 1040.954480121448, 9511.45964765195, 8135.852452514553, 4372.633356523656, 1187.172180870794, 3869.6756573940215, 1023.7645622335763, 2331.0873897197603, 2784.4242081503417, 2469.4386627838903, 4990.514883046911, 3132.823067487847, 2491.6400529438793, 2809.547511049363, 2267.875949484316, 5428.026409444709, 1838.368997871511, 1772.2043247825015, 2861.658256204813, 3545.706825987907, 4951.9064932134115, 2935.1603009903097, 2698.148127679219, 2075.2081487120477, 2365.0935849940233, 2352.97659452192, 2090.3550639938426, 2180.5815420460876, 2197.471040781319, 50847.34743134377, 5170.8459863166645, 2359.661305687735, 2327.6849482872126, 2194.3327651194218, 1932.0070116969505, 1735.3168799459347, 1640.2531131071687, 1557.339931368628, 1292.3740637976948, 1051.6028152965878, 956.8891271431629, 853.8108622183184, 716.915885259016, 702.3108053418804, 653.3401060381642, 602.8445110589231, 597.4311877539457, 590.6797149677159, 533.1596334063271, 518.9772209148138, 1888.476179575641, 457.928180931989, 348.57557567805463, 348.4743771453555, 333.7804628837101, 315.19677501769536, 305.81060328441305, 295.842532162675, 268.3982914192655, 1613.1401700037493, 1430.8732550473876, 965.822018346901, 2968.3249358381845, 3627.162754678436, 1164.6128726239008, 3611.0025416027606, 6780.796258371047, 12842.629059315435, 2251.8591070292605, 9597.126194184311, 5262.443398218497, 2630.5996708872267, 6339.582926085687, 3119.5832180574716, 2547.1008961546445, 1837.7425661483194, 4237.066434649922, 3855.2778323384714, 5462.506605714537, 2495.299267281701, 2971.5034399533724, 5936.293282228639, 3728.7772249286304, 4772.419381135813, 3149.1999249201053, 6962.866723593038, 2338.80858582765, 2706.7077286533186, 2838.41594431806, 2532.345004443341, 598.1190371945228, 426.76957645067876, 424.56649639189135, 423.8656323821805, 397.5424539908251, 394.7281415878983, 394.2382338739523, 349.37581395391635, 332.16325820871367, 325.05759649995554, 289.9236977586839, 249.1200914443172, 247.9652980921573, 240.50208108000487, 238.59219903647616, 236.10247287338558, 234.87922728874287, 227.06742575825444, 218.22752654908282, 213.07707696546413, 212.48506229037736, 209.84026153717136, 206.41469774385237, 205.2104793657345, 195.58396991684714, 194.71833677435706, 193.56693365519152, 188.06108099474244, 180.0569694499584, 176.53967890326234, 791.0594443645945, 226.92930233311114, 302.3684050460647, 1030.4872977416887, 333.6218583389294, 855.6298219762514, 356.551146855335, 1069.0843766255152, 1259.3610129746144, 1359.351783061824, 315.4418862763931, 1246.2987118946664, 692.1802135894868, 583.6239627031255, 1469.391737039562, 1498.538750960233, 599.4724639169006, 1646.038417790929, 517.1132671360012, 620.5867588211155, 1367.737467234755, 820.2074486904099, 544.4935506490201, 542.1505949098338, 1212.8125806661978, 1106.1372615191433, 535.217149418691, 1003.0778353694145, 884.6709387314788, 941.0403808221478, 754.0892963930323, 951.3317568629964, 758.8836953272262, 987.011406931358, 563.6711463857954, 601.7612140206817, 1859.7535280427994, 1482.6507683842995, 1269.559796391852, 1159.494653307567, 605.1937249330138, 577.1599079955677, 507.4802940630532, 330.0330200293531, 315.78632677406506, 288.97796788454076, 278.9929933615175, 277.4232686266182, 269.914076945297, 249.959142816229, 243.2684009411876, 227.85059889396646, 216.03927773784434, 216.001877276355, 213.4349650175119, 211.72570919506597, 200.73559270848463, 195.32199449473052, 192.66953552177833, 182.1373283927195, 172.0056345958927, 171.6028042594611, 166.22560308018075, 164.97022466306754, 164.79949611740054, 163.02406884430982, 950.3460183503927, 3378.0050112213253, 1555.2261997072328, 635.8767351445795, 327.1887240551519, 286.4057648287064, 1537.9096035963887, 688.55869680418, 366.07553461647007, 835.9080497970283, 508.16047162658776, 838.4688685172678, 858.3914558081794, 438.2880537540637, 350.93414934584655, 944.8886159863772, 447.4073079363101, 520.9348637881244, 443.0394813581808, 882.753423145494, 1079.2187406258902, 1051.830218480092, 526.2190199168703, 629.6843133695967, 729.7824706406283, 518.3805034890396, 1047.0344211577594, 625.764161193431, 905.6603848219802, 601.1503884075915, 1020.7969575077105, 524.150208828555, 2785.4033407278453, 2060.96831941858, 746.7503179891128, 634.1509741499773, 487.458193391097, 453.26377343429226, 426.9674865489388, 362.0862544232368, 344.08074003084926, 313.6349624271839, 309.53600666096634, 285.8130498780678, 270.52575995872945, 269.87833924887343, 241.7182746846906, 224.34669488043554, 221.01599200003125, 214.34381471526962, 196.79969507672615, 195.74580135511735, 186.65100843611498, 179.88526439540223, 179.08686861594612, 178.96656850115184, 176.80369643997673, 173.67937899886255, 171.8414225740255, 169.44653927060747, 163.9195856348429, 162.57790111600443, 433.3098293462023, 2559.031773078492, 483.6381245414221, 580.5714594970714, 586.984512137059, 397.2787776882725, 274.57737313983074, 365.7672924335015, 435.59678024226815, 460.8242974102309, 1199.1391222700406, 516.4766789206357, 348.82826749637746, 408.8228544500123, 312.94228394329934, 463.01873481428055, 547.9010798789313, 427.81274714430356, 712.4555230651487, 422.95257472969365, 718.5277525258635, 567.3283919995582, 351.6627201875654, 373.35500582070875, 350.2258727292868, 876.5039969367971, 439.67243469835176, 326.0083652636898, 309.41146790589795, 292.93359178419854, 190.4236096002783, 163.59479524011275, 136.3465489391547, 125.07014729066503, 124.23116655495686, 122.78727451553453, 109.09752715174231, 101.82022416361647, 100.43472731651835, 96.80590750346252, 94.46483075184588, 92.61597543671125, 92.57960193507071, 90.84323464822803, 90.30568443502284, 90.1182610444142, 81.50891665903112, 78.04521703369426, 76.10420099616402, 75.6386276113366, 74.43907223210215, 72.03308832656504, 68.54381358288717, 68.28331918438295, 67.07976420720232, 460.5537566162046, 173.1951688217709, 153.00689808587734, 579.0287103055251, 450.95276689462384, 385.0885989508491, 134.84597202684864, 116.9817067174735, 175.21874229738506, 184.45427606001792, 145.0955658711411, 110.5629415960489, 286.248413546638, 260.9196670321253, 246.60165981304618, 225.09378216763093, 147.64528586051685, 145.54556477971445, 136.07681663440124, 118.11122896827837, 113.07973977814437, 96.29117689576519, 95.57628880209211, 89.58720943478981, 88.90317348737298, 88.03712014642244, 85.42758311956617, 81.97394721532211, 80.56913295230075, 75.13407920425406, 73.16814611574078, 72.68563204518993, 72.57684265357638, 70.36571348971644, 66.37198897950418, 64.94683401235334, 64.54943841663787, 64.40434677304566, 64.24534012197648, 64.05874551986835, 60.423514000124264, 60.198390891546566, 177.94996092769443, 172.84627588193763, 119.3123850268792, 75.96328704455058, 50.38877953879782, 39.45031778908134, 38.84185301455121, 36.46294151358937, 34.52066353182618, 34.25316131189827, 32.6290504582977, 26.854772554259515, 25.39267943035153, 24.602182919941463, 24.283700118036823, 22.716362532314864, 20.906447859824915, 20.581957073798034, 19.548079017729034, 19.360132399659978, 18.863736167698654, 17.986251902674155, 17.508249121376657, 16.68694023525396, 15.99327700888673, 15.824966170401696, 15.673973746196388, 15.326115829671794, 14.031996049741252, 13.855329312757878, 78.73433503978805, 49.59238313027918, 43.98622105021252, 42.155751424657566, 41.66737081907209, 34.94285641170207, 30.86612157216376, 28.83879025390834, 28.127263702329238, 27.88316346853589, 27.011825372065026, 26.67237915515062, 25.98208769472228, 25.984225508913735, 25.755913840896156, 24.99683880490274, 24.642425239559962, 21.390682698128906, 21.33189545695223, 20.676295131275, 18.880470281427353, 18.133894968187793, 18.103435751864, 18.086780934241137, 17.863785986275904, 17.77498457559596, 17.21839392204447, 17.20630745705253, 16.437837429696067, 16.280358406979737, 16.874884003804553, 95.9024643365092, 65.74388401926974, 54.74805943005352, 50.94327169221906, 48.69043690601413, 34.160628634024626, 28.45175120542471, 28.0953860391082, 27.238682211951918, 24.12252722279707, 22.970543423667937, 21.118581338087257, 18.51634382474186, 17.683828826546566, 16.516297768320786, 16.300189531584586, 15.602346600859237, 15.468997585999222, 15.107705189273323, 13.405902342083508, 13.153871390960168, 11.073722232578717, 9.5163190608622, 9.467903569644395, 7.487377824753739, 7.102871919178374, 6.4411136070914194, 6.242181686660389, 5.654961087443356, 5.375947763559848], \"Total\": [50848.0, 50363.0, 4204.0, 3988.0, 2786.0, 2315.0, 18783.0, 3333.0, 2061.0, 5171.0, 1586.0, 15227.0, 8978.0, 4138.0, 3947.0, 3375.0, 15448.0, 6603.0, 1288.0, 9885.0, 4213.0, 2214.0, 1860.0, 5156.0, 3065.0, 3295.0, 1214.0, 1979.0, 4348.0, 7616.0, 1312.9803472234648, 927.3927354026282, 889.3249859834623, 842.8400047982219, 791.8851359773212, 705.041033233576, 690.3897057148712, 668.077230413479, 662.2311982513341, 630.5931879300032, 615.020271233995, 609.1912976132459, 587.2940657762101, 542.9954019593168, 538.6100173957767, 535.7259429584154, 513.9917928849283, 512.3596245325889, 507.3000327397253, 504.03397764819556, 501.74917152478844, 481.2285425366128, 464.8424585324259, 461.9354808998578, 461.7476269220237, 452.00090085026505, 448.5101685089469, 440.7680805574544, 440.5259174572948, 437.96263344693045, 2539.5548068234034, 50363.72004114583, 1062.5595115887536, 921.215420630867, 888.6618497327912, 1959.976876877013, 1271.1270142794633, 1239.0036070638987, 5619.819948695185, 1348.631779716188, 3609.2218935586375, 1533.4214123690667, 1624.7757158288994, 2948.402895806856, 4301.396307796739, 3641.4860234191174, 1153.6020297605246, 15448.42715439471, 12908.946049288606, 6349.017240463156, 1348.344300460826, 6708.765819885746, 1168.6082613089998, 3531.0296456932074, 4501.836221907758, 4078.4974574287744, 11474.389649277253, 5840.205024851115, 4213.842437187543, 5156.4340718290405, 3871.4291440542024, 15227.43917923721, 2856.7915148767984, 2762.531113895025, 6613.166661019244, 9885.963972791931, 18783.393408840493, 7615.816526875622, 7195.096888498602, 4138.822861727777, 6047.858395988735, 7616.094229141388, 5175.013501938629, 6603.752463552979, 8978.941535164813, 50848.14475866888, 5171.643362336461, 2360.4586767468422, 2328.482332183814, 2195.1301177835717, 1932.8043596177115, 1736.1142299083808, 1641.0504795038378, 1558.1372773686774, 1293.171407929349, 1052.400201054053, 957.6865012806119, 854.6082606289506, 717.7132971473736, 703.1081499820176, 654.1375530833495, 603.6418198161573, 598.2285413446745, 591.4771420121377, 533.9569990535741, 519.7745375077444, 1891.4926182808645, 458.72550439624126, 349.37297603466425, 349.27172233734404, 334.5779209824408, 315.99412252847577, 306.6080096234896, 296.63985814802754, 269.1956294826188, 1639.6771454614461, 1518.651043318404, 1013.2147515328876, 3312.5257422591685, 4115.676979403611, 1261.3442058225235, 4353.764997148415, 8978.941535164813, 18783.393408840493, 2733.9459034956135, 15227.43917923721, 7616.094229141388, 3463.9988127158877, 9885.963972791931, 4328.835129036966, 3414.7727874718457, 2358.033742648562, 7195.096888498602, 6603.752463552979, 11474.389649277253, 3947.738073617641, 5175.013501938629, 15448.42715439471, 7615.816526875622, 12908.946049288606, 6613.166661019244, 50363.72004114583, 3890.12967917446, 5840.205024851115, 6708.765819885746, 6047.858395988735, 598.8861598458376, 427.53670568354994, 425.33364523497954, 424.63277876381215, 398.30953715696404, 395.4952601440693, 395.005455275434, 350.1429726449459, 332.9303609738889, 325.82465726768265, 290.6910006776303, 249.88717297603472, 248.7325046537461, 241.26919748826046, 239.35931162187129, 236.86988494254308, 235.64640222476262, 227.83459524151775, 218.99460451358937, 213.8441455683677, 213.2522267873569, 210.60739180902945, 207.1818097082197, 205.97759041330417, 196.3511399746044, 195.48542270336313, 194.33402810417547, 188.8281643177572, 180.82415897896445, 177.30707688928183, 810.8048753100959, 231.38838908614488, 321.31091220953743, 1367.4664770467168, 366.55611627283605, 1142.2985951021942, 407.2882732633479, 1618.9508330738122, 2069.669025595397, 2407.4284670469647, 357.403374840276, 2179.586122428987, 1023.0887883095836, 841.3308071610261, 3065.7573902880986, 3375.5482300308195, 919.1122908778909, 4138.822861727777, 794.9530616078091, 1099.2058374228393, 4213.842437187543, 1775.3649293996887, 899.1011672417948, 944.091538442622, 5156.4340718290405, 4292.311195802804, 1003.5398736053576, 4348.3912490573175, 3295.076437339534, 6047.858395988735, 3062.983196444829, 7615.816526875622, 4301.396307796739, 18783.393408840493, 1893.2911824092473, 6613.166661019244, 1860.544583567448, 1483.441783407602, 1270.3508461193717, 1160.285684212295, 605.9847467625875, 577.9510107185912, 508.2715972567654, 330.8240744374022, 316.57751639178935, 289.7690749554092, 279.7840276865101, 278.2143099133942, 270.7051860106262, 250.75020454944894, 244.05946404269602, 228.64168162350893, 216.83039137649754, 216.7929619340845, 214.22607441679617, 212.51687643286536, 201.52660842893226, 196.11307622483105, 193.4605901084924, 182.92840756932713, 172.79682150019045, 172.3939651708234, 167.0167547023471, 165.76132086645035, 165.59053048450207, 163.81509760007467, 1002.7750911076878, 3988.205949243479, 1979.8126359761895, 772.0096604472084, 363.1876097737992, 312.2640781094097, 2216.1600443989564, 877.0532440992977, 416.1203174891812, 1144.8483235338724, 629.8705230731371, 1200.1244573085578, 1294.9727034807477, 547.3563869955866, 409.24992740928, 1536.8518029744112, 571.9823656494422, 716.9453438039048, 572.0670209192331, 1596.099290695415, 2222.645616711136, 2253.146807965319, 760.859871669702, 1135.3925535093745, 1570.6039323011291, 825.157251488127, 4348.3912490573175, 1372.6040825304017, 5156.4340718290405, 1602.1692549454656, 11474.389649277253, 1021.7877252551303, 2786.1878855454715, 2061.7528442258636, 747.5348773619079, 634.9354771111722, 488.2427328102868, 454.04830791975866, 427.75196984675057, 362.8707862494667, 344.86539501372636, 314.4195018018308, 310.32056011119784, 286.5977316103435, 271.3102847306455, 270.66292178186745, 242.50296009847648, 225.13129716570108, 221.80051332740578, 215.12834613956196, 197.58431264581702, 196.53056303785124, 187.4355388366858, 180.66976034644617, 179.87145984575588, 179.75120079969665, 177.5882787631659, 174.4641228332668, 172.6259770328889, 170.23110074282135, 164.7040746878891, 163.36251202579223, 457.5017746191875, 4204.776277062164, 592.989095859199, 786.8367787972486, 859.4395524277045, 517.51424915037, 325.2040564910069, 486.2142151428443, 672.2932541156661, 734.1868529884713, 3333.030770129359, 939.6042085196835, 501.8030741491344, 690.1773329264254, 430.37590087769337, 937.8188429816231, 1446.665293763659, 853.6091364646912, 3295.076437339534, 872.0004818793476, 3947.738073617641, 6603.752463552979, 836.1734536532206, 1842.6034315401978, 1292.4048102048655, 877.301276475945, 440.46967596561376, 326.8057908019881, 310.2087385121947, 293.7308626916511, 191.22086935420566, 164.39225336188719, 137.14375767578215, 125.86735323563295, 125.02862739929128, 123.58467668469163, 109.89478266174119, 102.61767649180398, 101.2319584099842, 97.60314670661575, 95.26221593303741, 93.41325570782328, 93.37697603176835, 91.6404668364419, 91.10297625977651, 90.91573694730232, 82.3063719184824, 78.84259570408709, 76.90171835070439, 76.43591277388474, 75.23646748839788, 72.83034099271899, 69.34109613091536, 69.08058676834283, 67.87706012212924, 561.7215640933251, 214.56126176773378, 195.2191257809679, 2315.9434405604793, 1586.7518159203191, 1288.32988720445, 283.6089751891897, 210.69682505620983, 699.9117656695065, 1214.472671324046, 567.2896621195847, 2214.1842542202303, 287.05699044563954, 261.7282747569198, 247.4102447212076, 225.90258289831417, 148.4538406362297, 146.35428722335155, 136.8853649806378, 118.91994300649817, 113.88844008689217, 97.09984974191548, 96.38493071099863, 90.3957630438568, 89.71180224779918, 88.84574568700971, 86.23620981481655, 82.78259490003127, 81.37771234658057, 75.94275673193762, 73.97671573948067, 73.49421739994337, 73.3854027668854, 71.17425140912403, 67.18067293848794, 65.75542389692359, 65.3579534123342, 65.21287214468752, 65.05391972191106, 64.86732473283774, 61.23212889835146, 61.00708258933596, 178.79039281668142, 173.68674801289876, 120.15288005017877, 76.80383659568997, 51.22925142047816, 40.29077137500199, 39.68227740313446, 37.303474875095965, 35.36112231826353, 35.09366509424178, 33.4695464118447, 27.695270745508974, 26.23309444899266, 25.442725503422892, 25.12414689450745, 23.556786764732433, 21.74688789945666, 21.422563429281453, 20.388704755025913, 20.200653182360313, 19.7042073086499, 18.826702371799758, 18.34868822064578, 17.52743010560897, 16.833770233895088, 16.665458305995948, 16.514321945037892, 16.166617077674616, 14.872563563497671, 14.696051549095795, 79.57680805620862, 50.434848049019635, 44.82859708356167, 42.99821005339146, 42.50982331720502, 35.78526995912215, 31.708518374876263, 29.681224325718162, 28.96959440839887, 28.72561511948933, 27.85430020018563, 27.514817354114594, 26.82450555279245, 26.826754971762686, 26.598303633408854, 25.839305826654805, 25.48500067973136, 22.233018091041114, 22.174298131886108, 21.51874656136784, 19.722917794151595, 18.976332227273378, 18.94590639334502, 18.929210595133164, 18.70630700714421, 18.61735260376054, 18.060709804405487, 18.04870699649105, 17.280186001358363, 17.12290357949451, 28.599153037278004, 96.74933572203409, 66.59074815235505, 55.59501083923245, 51.790180342863245, 49.53737254911736, 35.0075580843039, 29.298658444358775, 28.942318929350854, 28.0856796697561, 24.969499965830945, 23.81754397632389, 21.965533487711976, 19.36344755583063, 18.53069019740551, 17.363276284610105, 17.147104283374162, 16.449305107169085, 16.31594706398418, 15.95473629167219, 14.252731210957952, 14.000757394145312, 11.920649841895218, 10.363290453307592, 10.314869407557827, 8.334323635452257, 7.949700312934436, 7.288094276907438, 7.089220476840771, 6.501801980377247, 6.2228906948754865], \"Category\": [\"Default\", \"Default\", \"Default\", \"Default\", \"Default\", \"Default\", \"Default\", \"Default\", \"Default\", \"Default\", \"Default\", \"Default\", \"Default\", \"Default\", \"Default\", \"Default\", \"Default\", \"Default\", \"Default\", \"Default\", \"Default\", \"Default\", \"Default\", \"Default\", \"Default\", \"Default\", \"Default\", \"Default\", \"Default\", \"Default\", \"Topic1\", \"Topic1\", \"Topic1\", \"Topic1\", \"Topic1\", \"Topic1\", \"Topic1\", \"Topic1\", \"Topic1\", \"Topic1\", \"Topic1\", \"Topic1\", \"Topic1\", \"Topic1\", \"Topic1\", \"Topic1\", \"Topic1\", \"Topic1\", \"Topic1\", \"Topic1\", \"Topic1\", \"Topic1\", \"Topic1\", \"Topic1\", \"Topic1\", \"Topic1\", \"Topic1\", \"Topic1\", \"Topic1\", \"Topic1\", \"Topic1\", \"Topic1\", \"Topic1\", \"Topic1\", \"Topic1\", \"Topic1\", \"Topic1\", \"Topic1\", \"Topic1\", \"Topic1\", \"Topic1\", \"Topic1\", \"Topic1\", \"Topic1\", \"Topic1\", \"Topic1\", \"Topic1\", \"Topic1\", \"Topic1\", \"Topic1\", \"Topic1\", \"Topic1\", \"Topic1\", \"Topic1\", \"Topic1\", \"Topic1\", \"Topic1\", \"Topic1\", \"Topic1\", \"Topic1\", \"Topic1\", \"Topic1\", \"Topic1\", \"Topic1\", \"Topic1\", \"Topic1\", \"Topic1\", \"Topic1\", \"Topic1\", \"Topic1\", \"Topic1\", \"Topic1\", \"Topic1\", \"Topic1\", \"Topic1\", \"Topic2\", \"Topic2\", \"Topic2\", \"Topic2\", \"Topic2\", \"Topic2\", \"Topic2\", \"Topic2\", \"Topic2\", \"Topic2\", \"Topic2\", \"Topic2\", \"Topic2\", \"Topic2\", \"Topic2\", \"Topic2\", \"Topic2\", \"Topic2\", \"Topic2\", \"Topic2\", \"Topic2\", \"Topic2\", \"Topic2\", \"Topic2\", \"Topic2\", \"Topic2\", \"Topic2\", \"Topic2\", \"Topic2\", \"Topic2\", \"Topic2\", \"Topic2\", \"Topic2\", \"Topic2\", \"Topic2\", \"Topic2\", \"Topic2\", \"Topic2\", \"Topic2\", \"Topic2\", \"Topic2\", \"Topic2\", \"Topic2\", \"Topic2\", \"Topic2\", \"Topic2\", \"Topic2\", \"Topic2\", \"Topic2\", \"Topic2\", \"Topic2\", \"Topic2\", \"Topic2\", \"Topic2\", \"Topic2\", \"Topic2\", \"Topic2\", \"Topic2\", \"Topic2\", \"Topic2\", \"Topic2\", \"Topic3\", \"Topic3\", \"Topic3\", \"Topic3\", \"Topic3\", \"Topic3\", \"Topic3\", \"Topic3\", \"Topic3\", \"Topic3\", \"Topic3\", \"Topic3\", \"Topic3\", \"Topic3\", \"Topic3\", \"Topic3\", \"Topic3\", \"Topic3\", \"Topic3\", \"Topic3\", \"Topic3\", \"Topic3\", \"Topic3\", \"Topic3\", \"Topic3\", \"Topic3\", \"Topic3\", \"Topic3\", \"Topic3\", \"Topic3\", \"Topic3\", \"Topic3\", \"Topic3\", \"Topic3\", \"Topic3\", \"Topic3\", \"Topic3\", \"Topic3\", \"Topic3\", \"Topic3\", \"Topic3\", \"Topic3\", \"Topic3\", \"Topic3\", \"Topic3\", \"Topic3\", \"Topic3\", \"Topic3\", \"Topic3\", \"Topic3\", \"Topic3\", \"Topic3\", \"Topic3\", \"Topic3\", \"Topic3\", \"Topic3\", \"Topic3\", \"Topic3\", \"Topic3\", \"Topic3\", \"Topic3\", \"Topic3\", \"Topic3\", \"Topic3\", \"Topic3\", \"Topic3\", \"Topic4\", \"Topic4\", \"Topic4\", \"Topic4\", \"Topic4\", \"Topic4\", \"Topic4\", \"Topic4\", \"Topic4\", \"Topic4\", \"Topic4\", \"Topic4\", \"Topic4\", \"Topic4\", \"Topic4\", \"Topic4\", \"Topic4\", \"Topic4\", \"Topic4\", \"Topic4\", \"Topic4\", \"Topic4\", \"Topic4\", \"Topic4\", \"Topic4\", \"Topic4\", \"Topic4\", \"Topic4\", \"Topic4\", \"Topic4\", \"Topic4\", \"Topic4\", \"Topic4\", \"Topic4\", \"Topic4\", \"Topic4\", \"Topic4\", \"Topic4\", \"Topic4\", \"Topic4\", \"Topic4\", \"Topic4\", \"Topic4\", \"Topic4\", \"Topic4\", \"Topic4\", \"Topic4\", \"Topic4\", \"Topic4\", \"Topic4\", \"Topic4\", \"Topic4\", \"Topic4\", \"Topic4\", \"Topic4\", \"Topic4\", \"Topic4\", \"Topic4\", \"Topic4\", \"Topic4\", \"Topic4\", \"Topic4\", \"Topic5\", \"Topic5\", \"Topic5\", \"Topic5\", \"Topic5\", \"Topic5\", \"Topic5\", \"Topic5\", \"Topic5\", \"Topic5\", \"Topic5\", \"Topic5\", \"Topic5\", \"Topic5\", \"Topic5\", \"Topic5\", \"Topic5\", \"Topic5\", \"Topic5\", \"Topic5\", \"Topic5\", \"Topic5\", \"Topic5\", \"Topic5\", \"Topic5\", \"Topic5\", \"Topic5\", \"Topic5\", \"Topic5\", \"Topic5\", \"Topic5\", \"Topic5\", \"Topic5\", \"Topic5\", \"Topic5\", \"Topic5\", \"Topic5\", \"Topic5\", \"Topic5\", \"Topic5\", \"Topic5\", \"Topic5\", \"Topic5\", \"Topic5\", \"Topic5\", \"Topic5\", \"Topic5\", \"Topic5\", \"Topic5\", \"Topic5\", \"Topic5\", \"Topic5\", \"Topic5\", \"Topic5\", \"Topic5\", \"Topic6\", \"Topic6\", \"Topic6\", \"Topic6\", \"Topic6\", \"Topic6\", \"Topic6\", \"Topic6\", \"Topic6\", \"Topic6\", \"Topic6\", \"Topic6\", \"Topic6\", \"Topic6\", \"Topic6\", \"Topic6\", \"Topic6\", \"Topic6\", \"Topic6\", \"Topic6\", \"Topic6\", \"Topic6\", \"Topic6\", \"Topic6\", \"Topic6\", \"Topic6\", \"Topic6\", \"Topic6\", \"Topic6\", \"Topic6\", \"Topic6\", \"Topic6\", \"Topic6\", \"Topic6\", \"Topic6\", \"Topic6\", \"Topic6\", \"Topic6\", \"Topic6\", \"Topic6\", \"Topic6\", \"Topic6\", \"Topic7\", \"Topic7\", \"Topic7\", \"Topic7\", \"Topic7\", \"Topic7\", \"Topic7\", \"Topic7\", \"Topic7\", \"Topic7\", \"Topic7\", \"Topic7\", \"Topic7\", \"Topic7\", \"Topic7\", \"Topic7\", \"Topic7\", \"Topic7\", \"Topic7\", \"Topic7\", \"Topic7\", \"Topic7\", \"Topic7\", \"Topic7\", \"Topic7\", \"Topic7\", \"Topic7\", \"Topic7\", \"Topic7\", \"Topic7\", \"Topic8\", \"Topic8\", \"Topic8\", \"Topic8\", \"Topic8\", \"Topic8\", \"Topic8\", \"Topic8\", \"Topic8\", \"Topic8\", \"Topic8\", \"Topic8\", \"Topic8\", \"Topic8\", \"Topic8\", \"Topic8\", \"Topic8\", \"Topic8\", \"Topic8\", \"Topic8\", \"Topic8\", \"Topic8\", \"Topic8\", \"Topic8\", \"Topic8\", \"Topic8\", \"Topic8\", \"Topic8\", \"Topic8\", \"Topic8\", \"Topic9\", \"Topic9\", \"Topic9\", \"Topic9\", \"Topic9\", \"Topic9\", \"Topic9\", \"Topic9\", \"Topic9\", \"Topic9\", \"Topic9\", \"Topic9\", \"Topic9\", \"Topic9\", \"Topic9\", \"Topic9\", \"Topic9\", \"Topic9\", \"Topic9\", \"Topic9\", \"Topic9\", \"Topic9\", \"Topic9\", \"Topic9\", \"Topic9\", \"Topic9\", \"Topic9\", \"Topic9\", \"Topic9\", \"Topic9\", \"Topic9\", \"Topic10\", \"Topic10\", \"Topic10\", \"Topic10\", \"Topic10\", \"Topic10\", \"Topic10\", \"Topic10\", \"Topic10\", \"Topic10\", \"Topic10\", \"Topic10\", \"Topic10\", \"Topic10\", \"Topic10\", \"Topic10\", \"Topic10\", \"Topic10\", \"Topic10\", \"Topic10\", \"Topic10\", \"Topic10\", \"Topic10\", \"Topic10\", \"Topic10\", \"Topic10\", \"Topic10\", \"Topic10\", \"Topic10\", \"Topic10\"], \"logprob\": [30.0, 29.0, 28.0, 27.0, 26.0, 25.0, 24.0, 23.0, 22.0, 21.0, 20.0, 19.0, 18.0, 17.0, 16.0, 15.0, 14.0, 13.0, 12.0, 11.0, 10.0, 9.0, 8.0, 7.0, 6.0, 5.0, 4.0, 3.0, 2.0, 1.0, -6.3174, -6.6653, -6.7073, -6.761, -6.8234, -6.9397, -6.9607, -6.9936, -7.0024, -7.0514, -7.0765, -7.086, -7.1226, -7.2012, -7.2093, -7.2147, -7.2562, -7.2593, -7.2693, -7.2757, -7.2803, -7.3221, -7.3568, -7.3631, -7.3635, -7.3849, -7.3926, -7.4101, -7.4106, -7.4165, -5.7041, -2.8186, -6.5664, -6.7073, -6.7453, -6.0031, -6.4372, -6.4617, -5.0945, -6.3878, -5.5146, -6.277, -6.2338, -5.7186, -5.3992, -5.5583, -6.549, -4.3366, -4.4928, -5.1137, -6.4175, -5.2359, -6.5656, -5.7428, -5.5651, -5.6851, -4.9816, -5.4472, -5.6762, -5.5561, -5.7703, -4.8975, -5.9802, -6.0169, -5.5377, -5.3234, -4.9893, -5.5123, -5.5965, -5.859, -5.7283, -5.7334, -5.8518, -5.8095, -5.8018, -2.3586, -4.6444, -5.4289, -5.4425, -5.5015, -5.6289, -5.7362, -5.7926, -5.8444, -6.0309, -6.2371, -6.3315, -6.4455, -6.6202, -6.6408, -6.7131, -6.7935, -6.8025, -6.8139, -6.9163, -6.9433, -5.6516, -7.0685, -7.3413, -7.3416, -7.3847, -7.442, -7.4722, -7.5053, -7.6027, -5.8092, -5.9291, -6.3222, -5.1994, -4.999, -6.135, -5.0034, -4.3733, -3.7346, -5.4757, -4.0259, -4.6268, -5.3202, -4.4406, -5.1497, -5.3525, -5.6789, -4.8435, -4.938, -4.5895, -5.373, -5.1983, -4.5063, -4.9713, -4.7246, -5.1403, -4.3468, -5.4378, -5.2917, -5.2442, -5.3583, -5.6114, -5.949, -5.9541, -5.9558, -6.0199, -6.027, -6.0283, -6.1491, -6.1996, -6.2212, -6.3356, -6.4873, -6.4919, -6.5225, -6.5305, -6.541, -6.5461, -6.58, -6.6197, -6.6436, -6.6463, -6.6589, -6.6753, -6.6812, -6.7292, -6.7337, -6.7396, -6.7684, -6.8119, -6.8317, -5.3318, -6.5806, -6.2936, -5.0674, -6.1952, -5.2534, -6.1287, -5.0307, -4.8669, -4.7905, -6.2512, -4.8773, -5.4654, -5.636, -4.7126, -4.693, -5.6092, -4.5991, -5.757, -5.5746, -4.7843, -5.2957, -5.7054, -5.7097, -4.9045, -4.9966, -5.7225, -5.0944, -5.22, -5.1582, -5.3797, -5.1474, -5.3734, -5.1105, -5.6707, -5.6054, -4.434, -4.6606, -4.8158, -4.9065, -5.5566, -5.6041, -5.7327, -6.163, -6.2071, -6.2958, -6.331, -6.3366, -6.3641, -6.4409, -6.468, -6.5335, -6.5867, -6.5869, -6.5989, -6.6069, -6.6602, -6.6875, -6.7012, -6.7574, -6.8147, -6.817, -6.8488, -6.8564, -6.8575, -6.8683, -5.1054, -3.8371, -4.6128, -5.5072, -6.1717, -6.3048, -4.624, -5.4276, -6.0593, -5.2337, -5.7314, -5.2306, -5.2071, -5.8793, -6.1016, -5.1111, -5.8587, -5.7066, -5.8685, -5.1791, -4.9782, -5.0039, -5.6965, -5.517, -5.3694, -5.7115, -5.0085, -5.5232, -5.1535, -5.5633, -5.0339, -5.7004, -3.5111, -3.8124, -4.8276, -4.991, -5.2541, -5.3268, -5.3866, -5.5514, -5.6024, -5.6951, -5.7082, -5.7879, -5.8429, -5.8453, -5.9555, -6.0301, -6.045, -6.0757, -6.1611, -6.1665, -6.214, -6.251, -6.2554, -6.2561, -6.2682, -6.2861, -6.2967, -6.3107, -6.3439, -6.3521, -5.3718, -3.5959, -5.2619, -5.0793, -5.0683, -5.4586, -5.8281, -5.5413, -5.3666, -5.3103, -4.3539, -5.1963, -5.5887, -5.43, -5.6973, -5.3055, -5.1372, -5.3846, -4.8746, -5.396, -4.8661, -5.1023, -5.5806, -5.5208, -5.5847, -3.2591, -3.9491, -4.2482, -4.3004, -4.3551, -4.7858, -4.9377, -5.1199, -5.2062, -5.2129, -5.2246, -5.3428, -5.4119, -5.4256, -5.4624, -5.4869, -5.5066, -5.507, -5.5259, -5.5319, -5.534, -5.6344, -5.6778, -5.703, -5.7091, -5.7251, -5.758, -5.8076, -5.8114, -5.8292, -3.9027, -4.8807, -5.0046, -3.6737, -3.9237, -4.0816, -5.1309, -5.2731, -4.869, -4.8177, -5.0577, -5.3295, -4.0079, -4.1005, -4.157, -4.2482, -4.6699, -4.6843, -4.7515, -4.8931, -4.9367, -5.0974, -5.1048, -5.1695, -5.1772, -5.187, -5.2171, -5.2583, -5.2756, -5.3455, -5.372, -5.3786, -5.3801, -5.411, -5.4695, -5.4912, -5.4973, -5.4996, -5.502, -5.5049, -5.5634, -5.5671, -3.5585, -3.5876, -3.9583, -4.4098, -4.8202, -5.065, -5.0805, -5.1437, -5.1985, -5.2062, -5.2548, -5.4496, -5.5056, -5.5372, -5.5502, -5.6169, -5.7, -5.7156, -5.7671, -5.7768, -5.8028, -5.8504, -5.8773, -5.9254, -5.9678, -5.9784, -5.988, -6.0105, -6.0987, -6.1113, -4.2802, -4.7424, -4.8624, -4.9049, -4.9165, -5.0926, -5.2166, -5.2845, -5.3095, -5.3182, -5.35, -5.3626, -5.3889, -5.3888, -5.3976, -5.4275, -5.4418, -5.5833, -5.5861, -5.6173, -5.7081, -5.7485, -5.7502, -5.7511, -5.7635, -5.7685, -5.8003, -5.801, -5.8467, -5.8563, -5.8204, -3.9087, -4.2863, -4.4693, -4.5413, -4.5865, -4.941, -5.1238, -5.1364, -5.1674, -5.2889, -5.3378, -5.4219, -5.5534, -5.5994, -5.6677, -5.6809, -5.7246, -5.7332, -5.7568, -5.8763, -5.8953, -6.0675, -6.219, -6.2241, -6.4588, -6.5115, -6.6093, -6.6407, -6.7395, -6.7901], \"loglift\": [30.0, 29.0, 28.0, 27.0, 26.0, 25.0, 24.0, 23.0, 22.0, 21.0, 20.0, 19.0, 18.0, 17.0, 16.0, 15.0, 14.0, 13.0, 12.0, 11.0, 10.0, 9.0, 8.0, 7.0, 6.0, 5.0, 4.0, 3.0, 2.0, 1.0, 0.8684, 0.8681, 0.8681, 0.868, 0.868, 0.8679, 0.8678, 0.8678, 0.8678, 0.8677, 0.8677, 0.8677, 0.8676, 0.8675, 0.8675, 0.8675, 0.8674, 0.8674, 0.8674, 0.8674, 0.8674, 0.8673, 0.8673, 0.8673, 0.8673, 0.8672, 0.8672, 0.8672, 0.8672, 0.8672, 0.822, 0.7201, 0.8309, 0.8328, 0.8308, 0.782, 0.781, 0.782, 0.6373, 0.7711, 0.66, 0.7535, 0.7389, 0.6582, 0.5999, 0.6074, 0.7662, 0.3839, 0.4073, 0.496, 0.7416, 0.3187, 0.7366, 0.4537, 0.3885, 0.3672, 0.0364, 0.2461, 0.3435, 0.2617, 0.3342, -0.1626, 0.4281, 0.425, 0.0313, -0.1564, -0.4643, -0.0845, -0.1119, 0.1786, -0.0699, -0.3056, -0.0376, -0.2391, -0.5386, 1.1706, 1.1705, 1.1703, 1.1703, 1.1703, 1.1702, 1.1702, 1.1702, 1.1701, 1.17, 1.1699, 1.1698, 1.1697, 1.1695, 1.1695, 1.1694, 1.1693, 1.1693, 1.1693, 1.1691, 1.1691, 1.169, 1.1689, 1.1684, 1.1684, 1.1683, 1.1681, 1.168, 1.1679, 1.1677, 1.1543, 1.1111, 1.1227, 1.0609, 1.0443, 1.0908, 0.9836, 0.8899, 0.7904, 0.9766, 0.709, 0.801, 0.8954, 0.7263, 0.843, 0.8775, 0.9213, 0.6411, 0.6324, 0.4284, 0.7119, 0.6159, 0.2142, 0.4565, 0.1756, 0.4287, -0.808, 0.6618, 0.4016, 0.3105, 0.3001, 2.3593, 2.3588, 2.3588, 2.3588, 2.3587, 2.3586, 2.3586, 2.3584, 2.3583, 2.3582, 2.3579, 2.3575, 2.3575, 2.3574, 2.3574, 2.3573, 2.3573, 2.3572, 2.3571, 2.357, 2.357, 2.3569, 2.3569, 2.3569, 2.3567, 2.3567, 2.3566, 2.3565, 2.3563, 2.3563, 2.3359, 2.3411, 2.2998, 2.0777, 2.2664, 2.0716, 2.2275, 1.9456, 1.8638, 1.789, 2.2357, 1.8016, 1.9699, 1.9949, 1.6251, 1.5485, 1.9332, 1.4385, 1.9306, 1.7889, 1.2354, 1.5884, 1.859, 1.8059, 0.9133, 1.0046, 1.732, 0.8939, 1.0456, 0.5001, 0.959, 0.2805, 0.6257, -0.5855, 1.149, -0.0364, 2.4032, 2.4031, 2.403, 2.4029, 2.4023, 2.4022, 2.4021, 2.4012, 2.4011, 2.4009, 2.4008, 2.4008, 2.4007, 2.4005, 2.4004, 2.4002, 2.4, 2.4, 2.3999, 2.3999, 2.3997, 2.3996, 2.3995, 2.3993, 2.399, 2.399, 2.3989, 2.3988, 2.3988, 2.3988, 2.3499, 2.2376, 2.1622, 2.2096, 2.2992, 2.3172, 2.0383, 2.1616, 2.2755, 2.0891, 2.1889, 2.045, 1.9924, 2.1814, 2.2499, 1.9172, 2.158, 2.0842, 2.148, 1.8113, 1.6812, 1.6418, 2.0349, 1.8141, 1.6371, 1.9388, 0.9798, 1.6181, 0.6643, 1.4233, -0.0159, 1.7361, 2.9222, 2.9221, 2.9215, 2.9213, 2.9209, 2.9208, 2.9207, 2.9204, 2.9202, 2.92, 2.92, 2.9198, 2.9196, 2.9196, 2.9193, 2.919, 2.919, 2.9189, 2.9185, 2.9185, 2.9183, 2.9182, 2.9181, 2.9181, 2.9181, 2.918, 2.918, 2.9179, 2.9177, 2.9177, 2.8682, 2.4259, 2.7187, 2.6185, 2.5412, 2.6581, 2.7533, 2.6379, 2.4885, 2.4568, 1.9002, 2.3241, 2.5589, 2.3989, 2.6039, 2.2167, 1.9516, 2.2317, 1.3911, 2.199, 1.2188, 0.4681, 2.0564, 1.3261, 1.6168, 4.3298, 4.3289, 4.3283, 4.3281, 4.328, 4.3265, 4.3259, 4.3249, 4.3244, 4.3243, 4.3242, 4.3234, 4.3229, 4.3228, 4.3225, 4.3223, 4.3222, 4.3221, 4.322, 4.3219, 4.3219, 4.321, 4.3206, 4.3203, 4.3202, 4.3201, 4.3197, 4.3192, 4.3191, 4.3189, 4.1321, 4.1165, 4.0871, 2.9445, 3.0726, 3.1231, 3.5873, 3.7423, 2.9458, 2.4461, 2.9672, 1.3337, 4.6982, 4.698, 4.6978, 4.6975, 4.6956, 4.6955, 4.6951, 4.6942, 4.6939, 4.6927, 4.6926, 4.6921, 4.692, 4.6919, 4.6916, 4.6912, 4.6911, 4.6904, 4.6901, 4.69, 4.69, 4.6896, 4.6889, 4.6887, 4.6886, 4.6886, 4.6886, 4.6885, 4.6878, 4.6877, 5.6211, 5.6209, 5.6188, 5.6148, 5.6093, 5.6047, 5.6044, 5.603, 5.6017, 5.6016, 5.6004, 5.595, 5.5932, 5.5922, 5.5918, 5.5895, 5.5864, 5.5858, 5.5837, 5.5833, 5.5822, 5.5801, 5.5789, 5.5767, 5.5746, 5.574, 5.5736, 5.5724, 5.5676, 5.5669, 5.7089, 5.7027, 5.7006, 5.6998, 5.6995, 5.6957, 5.6926, 5.6907, 5.69, 5.6898, 5.6888, 5.6884, 5.6876, 5.6876, 5.6874, 5.6864, 5.6859, 5.6809, 5.6808, 5.6796, 5.6759, 5.6741, 5.6741, 5.674, 5.6735, 5.6732, 5.6718, 5.6717, 5.6696, 5.6691, 5.192, 5.885, 5.881, 5.8784, 5.8773, 5.8765, 5.8693, 5.8644, 5.8641, 5.8632, 5.8593, 5.8576, 5.8545, 5.849, 5.847, 5.8438, 5.8431, 5.8409, 5.8405, 5.8392, 5.8325, 5.8314, 5.8201, 5.8085, 5.8081, 5.7866, 5.7811, 5.7702, 5.7665, 5.7542, 5.7475]}, \"token.table\": {\"Topic\": [10, 9, 1, 2, 5, 1, 2, 3, 1, 6, 3, 5, 4, 1, 2, 1, 9, 5, 3, 2, 6, 1, 4, 5, 6, 3, 1, 1, 2, 6, 2, 10, 2, 10, 9, 6, 5, 1, 5, 1, 10, 2, 4, 1, 2, 4, 1, 2, 9, 7, 6, 6, 4, 10, 10, 1, 2, 3, 4, 9, 5, 9, 4, 7, 6, 9, 3, 5, 9, 2, 5, 1, 2, 3, 4, 1, 1, 2, 2, 3, 2, 2, 6, 6, 1, 2, 1, 1, 3, 4, 7, 9, 5, 6, 10, 1, 8, 10, 7, 10, 3, 2, 3, 10, 7, 4, 3, 1, 3, 4, 2, 2, 2, 4, 1, 3, 6, 3, 6, 2, 6, 1, 2, 3, 4, 2, 4, 1, 2, 4, 5, 10, 1, 2, 4, 5, 4, 10, 2, 3, 4, 5, 2, 4, 3, 8, 7, 7, 9, 8, 5, 2, 8, 1, 2, 5, 7, 1, 6, 1, 5, 1, 2, 5, 1, 2, 4, 5, 3, 1, 2, 1, 2, 3, 7, 1, 3, 4, 10, 9, 1, 2, 4, 5, 5, 9, 1, 2, 1, 2, 1, 3, 1, 2, 5, 9, 8, 4, 2, 4, 8, 7, 7, 4, 4, 7, 5, 4, 1, 1, 2, 3, 4, 2, 3, 5, 2, 4, 5, 8, 8, 1, 3, 1, 1, 2, 4, 6, 1, 2, 3, 4, 1, 2, 3, 5, 4, 4, 3, 1, 2, 3, 9, 6, 5, 6, 7, 3, 6, 3, 1, 2, 3, 4, 8, 8, 1, 2, 4, 5, 6, 1, 1, 2, 5, 8, 7, 2, 4, 2, 4, 1, 2, 2, 3, 4, 1, 4, 5, 1, 3, 4, 2, 4, 1, 8, 1, 2, 6, 9, 3, 5, 1, 3, 5, 7, 6, 7, 3, 3, 8, 1, 3, 2, 4, 7, 3, 6, 2, 2, 4, 4, 4, 7, 4, 4, 1, 2, 3, 4, 4, 2, 6, 2, 3, 2, 8, 10, 3, 1, 2, 3, 1, 2, 3, 1, 2, 3, 10, 8, 8, 2, 1, 2, 3, 7, 5, 10, 4, 1, 5, 1, 2, 9, 6, 3, 6, 3, 3, 4, 1, 3, 5, 1, 4, 6, 4, 5, 1, 2, 4, 1, 2, 1, 2, 1, 2, 3, 4, 10, 9, 2, 4, 5, 10, 1, 2, 3, 2, 2, 1, 2, 1, 4, 7, 6, 1, 1, 9, 7, 3, 1, 2, 3, 4, 2, 4, 7, 10, 1, 6, 2, 4, 1, 2, 3, 6, 3, 5, 8, 7, 1, 2, 5, 8, 3, 9, 1, 2, 3, 1, 3, 1, 2, 1, 2, 3, 1, 3, 8, 7, 8, 5, 8, 6, 1, 2, 4, 5, 1, 2, 1, 2, 2, 4, 5, 10, 1, 1, 6, 1, 2, 5, 1, 1, 1, 1, 2, 6, 5, 4, 8, 7, 5, 1, 4, 2, 4, 9, 1, 2, 3, 2, 1, 4, 1, 2, 1, 3, 10, 1, 3, 4, 5, 6, 1, 2, 3, 1, 2, 3, 4, 8, 10, 8, 3, 2, 4, 4, 1, 2, 4, 4, 5, 4, 2, 5, 8, 1, 2, 5, 7, 5, 10, 5, 1, 6, 10, 4, 6, 5, 3, 5, 2, 3, 5, 8, 10, 9, 5, 7, 2, 3, 6, 9, 2, 3, 4, 9, 4, 3, 5, 1, 1, 1, 5, 2, 3, 6, 10, 1, 2, 5, 7, 6, 1, 3, 6, 10, 3, 1, 2, 3, 5, 1, 5, 3, 3, 1, 2, 1, 2, 2, 5, 1, 2, 5, 1, 5, 9, 9, 7, 9, 1, 6, 3, 4, 1, 3, 4, 5, 2, 2, 3, 5, 2, 8, 1, 2, 1, 1, 2, 3, 3, 1, 2, 3, 4, 5, 9, 6, 3, 10, 1, 2, 2, 9, 10, 2, 10, 8, 1, 2, 5, 6, 1, 4, 3, 7, 2, 4, 5, 1, 2, 1, 2, 5, 1, 2, 4, 3, 9, 3, 8, 5, 5, 2, 1, 2, 2, 3, 5, 2, 3, 1, 2, 3, 5, 1, 1, 2, 1, 3, 4, 3, 1, 9, 1, 2, 3, 4, 1, 2, 4, 1, 2, 1, 2, 5, 9, 1, 2, 3, 5, 8, 1, 2, 3, 4, 4], \"Freq\": [0.8725268003301713, 0.9418957271180183, 0.2916264706317954, 0.348331617699089, 0.35973265255917974, 0.37497757734336645, 0.5888732376589487, 0.03599673555668344, 0.743888049049345, 0.255601343867666, 0.9941279544592725, 0.9992844783860848, 0.99817575045009, 0.9541042364944289, 0.04567729733114063, 0.38462677498392633, 0.5944231977024316, 0.9962929028899918, 0.9988842442754279, 0.999619725410873, 0.9882744056954337, 0.9978020192285488, 0.30290767002122043, 0.6954919528776706, 0.9975117946920737, 0.9974545787608607, 0.9994355279175728, 0.809930014448213, 0.18959417004880696, 0.9835655828925175, 0.9997928555535306, 0.9713615525513556, 0.9998755980852921, 0.964944487955402, 0.9747397882875265, 0.9867500884723839, 0.9982420423522071, 0.40714173965773415, 0.5926013221352786, 0.998166831697423, 0.9228210914617655, 0.998272686432076, 0.999723819509828, 0.19537091347173816, 0.14131572002105963, 0.6625622282954599, 0.9983875660411112, 0.9993598737412664, 0.9675182517562445, 0.9932754246874429, 0.9916601550433956, 0.9918578240015693, 0.9942767264903023, 0.9674414848495352, 0.9911286752477468, 0.2698036849032307, 0.16841607888531518, 0.46187687185939286, 0.09969781258428358, 0.9470423764981541, 0.9977809350425819, 0.9668399360048732, 0.9973950036901084, 0.9963178376391439, 0.9885989687621811, 0.9913780240083803, 0.15374961966805198, 0.8456229081742859, 0.9344209599568593, 0.261807792354203, 0.738399647367922, 0.35916292555415996, 0.34278932159507325, 0.29789395590080325, 0.9963423077621607, 0.9992981013425541, 0.6156613812490513, 0.38424623689353055, 0.1227631711548704, 0.8765290420457746, 0.998423926700258, 0.996358931296145, 0.995576048552297, 0.9959628588567689, 0.8908183940705456, 0.1082546511095978, 0.9985068803950155, 0.8762559994681033, 0.10354196868714892, 0.0196815312380531, 0.9886730026376065, 0.963346305972742, 0.9958208857779274, 0.9870786960933315, 0.9812302248975705, 0.9974470705121998, 0.9656554122635947, 0.9891521790223222, 0.9885116108732297, 0.9790778952856901, 0.9960525196229989, 0.5557615747599233, 0.4440760130944163, 0.9726854657846146, 0.9814013383431951, 0.9975090251856561, 0.9982681069776274, 0.9627696038129632, 0.03670382653832411, 0.9954071259659922, 0.9990941588082088, 0.9978429798610939, 0.2167899002606619, 0.7814926243267408, 0.9980704110480801, 0.17802414290683324, 0.8206912988005013, 0.21514285463568356, 0.7837346847442759, 0.19108761601329133, 0.8062965261048635, 0.0928724777767706, 0.04095164374408783, 0.7532177331501868, 0.11188574094366853, 0.2141616798960057, 0.7854278590525682, 0.40582267961128937, 0.0499404849632518, 0.4854575069851233, 0.05848885626326787, 0.9121058839589417, 0.7932638484325574, 0.2065902485487212, 0.9158914522976049, 0.08006044163440602, 0.9974981933603443, 0.9560432489266825, 0.9989367538909866, 0.1437805842166536, 0.8238238879440694, 0.031087693884681862, 0.3708384061924504, 0.6277591320512722, 0.9954422075920711, 0.9955792209848108, 0.97987773868851, 0.9975792494359194, 0.988006929283127, 0.9904048904221248, 0.9951550966089718, 0.999288257957508, 0.9650575481383324, 0.2068629794035835, 0.29856512491238857, 0.49369876012298536, 0.9969428838332193, 0.9992533420431327, 0.9938204174048944, 0.9983410770640976, 0.9996348523403414, 0.9157228089120676, 0.03776176531596155, 0.045628799756786874, 0.17127169649058607, 0.2763268263082318, 0.46478936222352357, 0.0872275926364695, 0.9970550505461045, 0.5858301716520442, 0.41405897934666086, 0.23452605945848617, 0.28606307947857074, 0.4791638127183813, 0.9856648405876003, 0.38034743911662505, 0.5716681654274003, 0.04725667820146246, 0.8399001894075294, 0.9775059476854249, 0.12239195924971306, 0.26500519872329176, 0.0627923964846354, 0.5491673997639299, 0.9927680621375923, 0.9780560560247508, 0.861731420247419, 0.13825428293047878, 0.8803389457680186, 0.11866405334699492, 0.9068450101757008, 0.09268653006701766, 0.3302667706031139, 0.5837590099381037, 0.08586027461346428, 0.9509112865291873, 0.9897875888945692, 0.9970081597708089, 0.624153782075938, 0.3751164230276387, 0.9699083035886598, 0.9921990319103999, 0.9945231851114443, 0.9971935054931692, 0.997345903956357, 0.9960045481254172, 0.9966874009520051, 0.9973869037293009, 0.9988822419602197, 0.09206710644946219, 0.5987626710223888, 0.24616524206700172, 0.0630104664707312, 0.8812644962544113, 0.11857101576293154, 0.9976763273422481, 0.2179780765794357, 0.6148933802016917, 0.16657429135622548, 0.9748956869966069, 0.9825991321816788, 0.34707402258249304, 0.6517157978900104, 0.9981408332096325, 0.15241227598906548, 0.039690696872152466, 0.8065149604421381, 0.984357591345214, 0.056112706061786984, 0.4723585993889773, 0.23066001713103418, 0.2407787018307007, 0.2636371337284198, 0.6837422674624587, 0.052546415789569936, 5.323851650412354e-05, 0.998891924437413, 0.9971977396529991, 0.9972568975436932, 0.38538218320289286, 0.489638896478224, 0.12487170569879083, 0.9815163280256766, 0.997613918211683, 0.9974906296014655, 0.9878303410372163, 0.9834923660238755, 0.9810345320114091, 0.017286952105927914, 0.9954583149854377, 0.09397911575704386, 0.3283003777112732, 0.024434570096831403, 0.5532237280897981, 0.976004892002252, 0.9552563157974049, 0.45345665153364106, 0.06705075487616338, 0.1002305098664298, 0.3788022028055416, 0.9917728649775043, 0.9982574043100331, 0.9168657730480791, 0.06779641279580867, 0.015334902894290056, 0.9413306549491415, 0.9920656788743016, 0.9837302449843329, 0.015856780142338905, 0.15295097789915052, 0.84699738253005, 0.22052271373179413, 0.7794629766135339, 0.1416865179902473, 0.1637968344919101, 0.6939931995828037, 0.7587091047754306, 0.03853243665168496, 0.20243097001519, 0.17596099729249673, 0.7493662372257571, 0.07441136701423991, 0.9979463678849007, 0.9939122592571079, 0.9979748667540422, 0.9688358257450508, 0.6601473886924506, 0.33956101203013656, 0.993980798309604, 0.9809691714029621, 0.9755738083068118, 0.023433504877154773, 0.20324942168351093, 0.6941383758080139, 0.1022190073963856, 0.9960063185379796, 0.9989336928482441, 0.9983418442446881, 0.9975168342649277, 0.9964497058193547, 0.9828064958015599, 0.3913669238814555, 0.6083098236626574, 0.9993582047257111, 0.9953886796454207, 0.9866292507605346, 0.9992228728461451, 0.9878930820368435, 0.9995838380570133, 0.19731203027118566, 0.800209900544253, 0.999707298834837, 0.9956353434380418, 0.9875859558895741, 0.9961703183247238, 0.9977147391996406, 0.16466433659446938, 0.0918845193151459, 0.5649533316307486, 0.17831055233434254, 0.9956589921769611, 0.999283167007477, 0.9893129380563581, 0.9236178313756178, 0.0761092805253728, 0.9991933043929397, 0.9600696066212276, 0.9847426609130908, 0.996336837078526, 0.6887680146984438, 0.25185000125836077, 0.059379268589369615, 0.2098730511486545, 0.7595268192188583, 0.03060047238205967, 0.4327730037214726, 0.4761712748843177, 0.09103052000011409, 0.9892974058238233, 0.9278378975595543, 0.9642610688357526, 0.9980169806254043, 0.3434047376251137, 0.39885272104083763, 0.2576700405789524, 0.9953585283281015, 0.996390840961562, 0.9611726319246425, 0.9943243140831927, 0.2468047956284975, 0.7527546266669174, 0.5768572199269146, 0.4230286279464041, 0.9770486446838416, 0.9950808950254929, 0.995253899167659, 0.9961034672395368, 0.999215568204591, 0.9985203200453561, 0.9950242827919037, 0.1533543115806483, 0.11850105894868278, 0.7272712049203472, 0.9988625263265648, 0.996433790732029, 0.9899276299345942, 0.23187767331432946, 0.7671286358815733, 0.1575647744996134, 0.8293970855949038, 0.012862430571397012, 0.9621207439669961, 0.03713448485486652, 0.6433791161968169, 0.3563438195257669, 0.009144292126641968, 0.8237178347679085, 0.09985567002293029, 0.06730199005208488, 0.9613440129446037, 0.9500733101015806, 0.1135521599915709, 0.730227736561179, 0.15635258952685532, 0.9922548747602054, 0.22545465405332585, 0.11365385300222454, 0.6603041785835763, 0.9999774867170805, 0.9984184345773489, 0.536453769459895, 0.46351112477750894, 0.3008021358131402, 0.698260913605018, 0.9935320698398763, 0.999656587213511, 0.997948595344663, 0.9985234430557873, 0.9622423064651691, 0.9904807407437476, 0.9967356973172644, 0.00621353209231961, 0.4393854836711724, 0.08743327301335452, 0.4669025543657307, 0.09636892630175002, 0.9003611114477788, 0.9947482366744015, 0.8232604810027215, 0.847281313360605, 0.15150608518790215, 0.2719872605147086, 0.7266941678367342, 0.3896517537827916, 0.2584741713340032, 0.05278151246460125, 0.29883650439516884, 0.9976229030963479, 0.9973003535447611, 0.9763640614361712, 0.9837992894753107, 0.1856759456506422, 0.6320074821259921, 0.18212961108159853, 0.9405636455652459, 0.9984988608989697, 0.9259159593966333, 0.4038636805907962, 0.5742980185243284, 0.021835691821416252, 0.34844824603827773, 0.6503528635443667, 0.3586903623925064, 0.6413132818862072, 0.7641704611225807, 0.059283075018636465, 0.17645432917311796, 0.39372654924470696, 0.6050487084438434, 0.9526368326369526, 0.992264182245295, 0.9560888383173219, 0.9976002856045071, 0.950470380532088, 0.9952690195874093, 0.6414407392869405, 0.3080508290819336, 0.05031617537295978, 0.9974546824217255, 0.3089510094290508, 0.6909053173037251, 0.605369998577011, 0.3942628423296208, 0.9990061530833988, 0.9473709592752336, 0.05185609461296016, 0.9556751567029916, 0.9980444605530098, 0.9981876471975352, 0.9930110915128249, 0.6870912217196397, 0.04178257429376187, 0.27081298153364175, 0.9983808754427016, 0.9988061600090856, 0.9986449359640741, 0.6756438616834292, 0.2741415936108566, 0.05013132930939882, 0.9989670033107604, 0.9975678334749634, 0.9895339005013315, 0.9905463835607432, 0.9949749449323857, 0.11775440405231825, 0.8795533037377241, 0.9534010421172248, 0.04638700722516518, 0.9692629729495008, 0.6184143231270672, 0.3740695833857691, 0.007330342192238944, 0.9985098586947752, 0.22375000711336512, 0.7743847902439122, 0.057287683291545585, 0.9422836182781809, 0.42474694843838084, 0.5740968729516269, 0.8805363377800242, 0.3607230858694875, 0.5331128479010381, 0.10562609696730849, 0.9986657894964315, 0.9931089896360242, 0.5013502798556057, 0.10075328515652414, 0.3976976195866636, 0.2534773060963619, 0.1722471269226243, 0.06067796516592447, 0.5128266733378133, 0.9960460540556165, 0.9656747153637428, 0.9688560059111339, 0.9985098212020883, 0.14172268854673672, 0.8576666151707687, 0.9976192044682893, 0.43496866958098923, 0.476103755143447, 0.08898076771031657, 0.18381450984704323, 0.8162038785868709, 0.9983545132702359, 0.3510372870101667, 0.648526513289969, 0.9859709359049296, 0.39870136162893777, 0.6012653029336463, 0.9975507477067668, 0.9972174395082221, 0.9985266579914097, 0.9712188413177081, 0.9995736520312811, 0.4413925078139616, 0.5553002517659517, 0.9401596946374771, 0.994924749077175, 0.9942970161791059, 0.997914388201941, 0.05245881290838046, 0.9464444162220308, 0.3108369896229504, 0.0803847761993552, 0.6085936162548815, 0.9529947009724578, 0.9285211959630271, 0.9691817004094266, 0.9970427174202618, 0.9956218850250228, 0.2820785200702257, 0.23976674205969187, 0.4760075026185059, 0.9445411286046691, 0.15541173143213752, 0.6763831330254035, 0.16811835098319278, 0.9812894504263315, 0.9983749644395368, 0.9982116733590148, 0.997339723344092, 0.9994992869954825, 0.9990593175737429, 0.3164853179396587, 0.6830032412888958, 0.623285878785258, 0.09201186886010886, 0.2842284442185555, 0.8463553954346515, 0.09398152489266037, 0.2778584214217785, 0.6279055503698034, 0.9835017385378009, 0.9962776646407664, 0.5772156146190089, 0.17287893408143587, 0.25003151623348163, 0.919345958967408, 0.9956141907074647, 0.1696470508742857, 0.345363763676095, 0.268582540292921, 0.21607996461984152, 0.9650294383817357, 0.03473671769203098, 0.9987446558940668, 0.9974690151611051, 0.6302605936174288, 0.3696661200519138, 0.9023909226443546, 0.09708720781572307, 0.9998056832126058, 0.9979259630551633, 0.8782750665817272, 0.09909059966339039, 0.02215690427255934, 0.9996345700519109, 0.9976911973869883, 0.9412697609400295, 0.9665306184570619, 0.9824254076828168, 0.9767848463423949, 0.9990033638728112, 0.9936153969055324, 0.9111838138076415, 0.08729904802947462, 0.08251876413744152, 0.2714747747710033, 0.22363781005364586, 0.42096528951274514, 0.9982077226157343, 0.3561348947822265, 0.14175106009424146, 0.5014004439697136, 0.9994851704805943, 0.9809965586393561, 0.24468362906649363, 0.7552115105598057, 0.9995765166281385, 0.3564617750961791, 0.6302438569635281, 0.013265526634014034, 0.9987477469543153, 0.24041892647706797, 0.005099795410119624, 0.29870230259272085, 0.4560674181049835, 0.9957252139072862, 0.9485500034685226, 0.9975343435622401, 0.9972055388064717, 0.803485107671499, 0.9977856220012344, 0.9989324416590617, 0.9955585107941137, 0.9758932724130347, 0.9331021574012124, 0.9982609879558396, 0.9227684854344445, 0.9809352894312673, 0.45942400032986225, 0.24266568438475808, 0.04749684213936546, 0.25000610544266, 0.21435414698576172, 0.7855851450701586, 0.9971159995676685, 0.9867969842981363, 0.9981535120744808, 0.0010573660085534753, 0.9963737958582581, 0.9168475512136158, 0.08316424643729516, 0.32798147012901735, 0.18577971384930356, 0.4850914750509593, 0.40866922947999496, 0.03611085863939611, 0.5548741693370621, 0.9963275832098535, 0.9927515557572856, 0.9982811651287524, 0.9679635973461944, 0.9988563473332626, 0.9947550094638391, 0.9992701045118451, 0.10384824957326651, 0.8959930370158575, 0.9968539841167894, 0.9398996066559229, 0.05602050635697554, 0.11471632023151138, 0.8813570944616118, 0.26034717571946964, 0.7207481705809631, 0.013860541741941597, 0.005313207667744279, 0.9988674228549885, 0.2538968341263755, 0.7458768587311169, 0.2633515423939829, 0.5645027541221179, 0.17196772642130745, 0.9942957844132935, 0.9994085694453735, 0.977655267064208, 0.5449502429114281, 0.0442166033394326, 0.2352400870646129, 0.1757028185330085, 0.1603448999515138, 0.14720187536532414, 0.6913230932335759, 0.7697406998058903, 0.22985121860061725, 0.8115322599664414, 0.14379830758708878, 0.04460795283530115, 0.9693296836019619, 0.3910475155252635, 0.4186605959027346, 0.15559226727664818, 0.03455768741851166, 0.9802748428928038, 0.591384238292318, 0.08305958402981996, 0.32464431700798196, 0.000949252388912228, 0.9997021902628445], \"Term\": [\"accentbr\", \"accusation\", \"action\", \"action\", \"action\", \"actor\", \"actor\", \"actor\", \"adaptation\", \"adaptation\", \"africa\", \"alien\", \"amateur\", \"american\", \"american\", \"anchorman\", \"anchorman\", \"anime\", \"anne\", \"annoying\", \"anyone\", \"apparent\", \"army\", \"army\", \"art\", \"arthur\", \"atmosphere\", \"audience\", \"audience\", \"austin\", \"awful\", \"bach\", \"bad\", \"banker\", \"banter\", \"basket\", \"batman\", \"battle\", \"battle\", \"beauty\", \"believablebr\", \"bland\", \"blood\", \"body\", \"body\", \"body\", \"bored\", \"boring\", \"bout\", \"boyle\", \"branagh\", \"brando\", \"breast\", \"brit\", \"brook\", \"brother\", \"brother\", \"brother\", \"brother\", \"burial\", \"burt\", \"butch\", \"cabin\", \"cage\", \"cagney\", \"camcorder\", \"captain\", \"captain\", \"careerbr\", \"cartoon\", \"cartoon\", \"cast\", \"cast\", \"cast\", \"cell\", \"century\", \"character\", \"character\", \"charlie\", \"charlie\", \"cheesy\", \"chick\", \"choreography\", \"christianity\", \"cinema\", \"cinema\", \"cinematic\", \"city\", \"city\", \"city\", \"civil\", \"clarity\", \"clark\", \"clarke\", \"clause\", \"clich\\u00e9\", \"closure\", \"clothing\", \"cole\", \"collar\", \"columbo\", \"comedy\", \"comedy\", \"communism\", \"connery\", \"cop\", \"corrupt\", \"country\", \"country\", \"cowboy\", \"crap\", \"crappy\", \"creepy\", \"creepy\", \"culture\", \"dance\", \"dance\", \"dancer\", \"dancer\", \"dancing\", \"dancing\", \"daughter\", \"daughter\", \"daughter\", \"daughter\", \"dead\", \"dead\", \"death\", \"death\", \"death\", \"death\", \"demi\", \"director\", \"director\", \"dirty\", \"dirty\", \"disappointing\", \"discernible\", \"disney\", \"doctor\", \"doctor\", \"doctor\", \"documentary\", \"documentary\", \"dracula\", \"dragon\", \"drake\", \"drivel\", \"duck\", \"dude\", \"duke\", \"dumb\", \"dungeon\", \"earth\", \"earth\", \"earth\", \"eddie\", \"element\", \"emma\", \"emotional\", \"episode\", \"event\", \"event\", \"event\", \"evil\", \"evil\", \"evil\", \"evil\", \"executive\", \"fact\", \"fact\", \"family\", \"family\", \"family\", \"farmer\", \"father\", \"father\", \"father\", \"fetched\", \"fetish\", \"fight\", \"fight\", \"fight\", \"fight\", \"fighter\", \"file\", \"film\", \"film\", \"filmmaker\", \"filmmaker\", \"fine\", \"fine\", \"first\", \"first\", \"first\", \"firsttime\", \"fishing\", \"flesh\", \"flick\", \"flick\", \"flood\", \"flop\", \"flynn\", \"football\", \"ford\", \"forgettable\", \"franchise\", \"freddy\", \"french\", \"friend\", \"friend\", \"friend\", \"friend\", \"funny\", \"funny\", \"gadget\", \"game\", \"game\", \"game\", \"garage\", \"gellar\", \"george\", \"george\", \"german\", \"ghost\", \"ghost\", \"ghost\", \"ginger\", \"girl\", \"girl\", \"girl\", \"girl\", \"good\", \"good\", \"good\", \"good\", \"gore\", \"gory\", \"grant\", \"great\", \"great\", \"great\", \"greek\", \"gruesome\", \"gun\", \"hamlet\", \"handle\", \"handsome\", \"handsome\", \"hardy\", \"head\", \"head\", \"head\", \"head\", \"helen\", \"herman\", \"hero\", \"hero\", \"hero\", \"hero\", \"hideous\", \"historical\", \"history\", \"history\", \"history\", \"hohum\", \"hopper\", \"horrible\", \"horrible\", \"horror\", \"horror\", \"hour\", \"hour\", \"house\", \"house\", \"house\", \"human\", \"human\", \"human\", \"husband\", \"husband\", \"husband\", \"imdb\", \"inspector\", \"intention\", \"intentional\", \"interesting\", \"interesting\", \"invasion\", \"isolated\", \"jack\", \"jack\", \"jame\", \"jame\", \"jame\", \"jamie\", \"jane\", \"jerry\", \"jimmy\", \"joan\", \"joey\", \"john\", \"john\", \"joke\", \"joseph\", \"kathryn\", \"keaton\", \"kenneth\", \"kid\", \"kill\", \"kill\", \"killer\", \"killing\", \"kirk\", \"knife\", \"korean\", \"lady\", \"lady\", \"lady\", \"lady\", \"lake\", \"lame\", \"latin\", \"laugh\", \"laugh\", \"laughable\", \"laundry\", \"leslie\", \"lewis\", \"life\", \"life\", \"life\", \"line\", \"line\", \"line\", \"little\", \"little\", \"little\", \"logical\", \"lostbr\", \"lotbr\", \"lousy\", \"love\", \"love\", \"love\", \"lucy\", \"luke\", \"lunch\", \"lynch\", \"machine\", \"machine\", \"many\", \"many\", \"marilyn\", \"marlon\", \"married\", \"martial\", \"martin\", \"mary\", \"massacre\", \"match\", \"match\", \"match\", \"medium\", \"metal\", \"midget\", \"military\", \"military\", \"minute\", \"minute\", \"minute\", \"modern\", \"modern\", \"moment\", \"moment\", \"money\", \"money\", \"money\", \"money\", \"moneybr\", \"monroe\", \"monster\", \"monster\", \"monster\", \"moore\", \"mother\", \"mother\", \"mother\", \"movie\", \"moviebr\", \"much\", \"much\", \"murder\", \"murder\", \"murphy\", \"musical\", \"narrative\", \"nature\", \"naughty\", \"navy\", \"nick\", \"night\", \"night\", \"night\", \"night\", \"nightmare\", \"nightmare\", \"niro\", \"nodding\", \"novel\", \"novel\", \"nudity\", \"nudity\", \"number\", \"number\", \"number\", \"number\", \"obnoxious\", \"okay\", \"olivia\", \"olivier\", \"original\", \"original\", \"original\", \"ounce\", \"parker\", \"parrot\", \"part\", \"part\", \"part\", \"paul\", \"paul\", \"people\", \"people\", \"performance\", \"performance\", \"performance\", \"peter\", \"peter\", \"philippine\", \"photographer\", \"picnic\", \"pilot\", \"pioneer\", \"pitch\", \"place\", \"place\", \"place\", \"planet\", \"plot\", \"plot\", \"point\", \"point\", \"pointless\", \"police\", \"police\", \"policy\", \"political\", \"portrayal\", \"powell\", \"power\", \"power\", \"power\", \"powerful\", \"pretentious\", \"prison\", \"production\", \"production\", \"production\", \"program\", \"prom\", \"psychotic\", \"racial\", \"ranger\", \"rape\", \"rape\", \"rating\", \"rating\", \"razor\", \"real\", \"real\", \"real\", \"rent\", \"revenge\", \"revenge\", \"review\", \"review\", \"richard\", \"richard\", \"ridley\", \"robert\", \"robert\", \"robert\", \"robot\", \"rochester\", \"role\", \"role\", \"role\", \"room\", \"room\", \"room\", \"room\", \"rubbish\", \"sack\", \"sammo\", \"santa\", \"scare\", \"scare\", \"scarecrow\", \"scene\", \"scene\", \"scene\", \"science\", \"science\", \"scientist\", \"scifi\", \"scifi\", \"scratch\", \"script\", \"script\", \"seagal\", \"sean\", \"season\", \"senior\", \"series\", \"shakespeare\", \"shakespeare\", \"shakespearean\", \"shark\", \"shaw\", \"sheriff\", \"ship\", \"ship\", \"show\", \"show\", \"show\", \"showing\", \"showtime\", \"signal\", \"simpson\", \"sinatra\", \"singing\", \"singing\", \"singing\", \"sissy\", \"sister\", \"sister\", \"sister\", \"skinny\", \"slasher\", \"slave\", \"slug\", \"social\", \"society\", \"soldier\", \"soldier\", \"song\", \"song\", \"song\", \"southwest\", \"space\", \"space\", \"space\", \"springer\", \"squad\", \"stage\", \"stage\", \"stage\", \"stalwart\", \"stan\", \"star\", \"star\", \"star\", \"star\", \"state\", \"state\", \"steve\", \"stewart\", \"story\", \"story\", \"strong\", \"strong\", \"stupid\", \"stupidity\", \"style\", \"style\", \"style\", \"subject\", \"superman\", \"surf\", \"surfing\", \"switch\", \"tail\", \"tale\", \"tarzan\", \"taylor\", \"taylor\", \"team\", \"team\", \"team\", \"team\", \"teen\", \"television\", \"television\", \"television\", \"terrible\", \"therapist\", \"thing\", \"thing\", \"thriller\", \"time\", \"time\", \"time\", \"tony\", \"town\", \"town\", \"town\", \"town\", \"trek\", \"triple\", \"ugly\", \"uncle\", \"unconnected\", \"unfunny\", \"unnecessary\", \"unrealistic\", \"untalented\", \"valerie\", \"vampire\", \"vera\", \"verge\", \"version\", \"version\", \"version\", \"version\", \"victim\", \"victim\", \"victor\", \"victoria\", \"video\", \"video\", \"vietnam\", \"viewer\", \"viewer\", \"villain\", \"villain\", \"villain\", \"violence\", \"violence\", \"violence\", \"virus\", \"voiceover\", \"walter\", \"wanna\", \"war\", \"warrior\", \"waste\", \"watch\", \"watch\", \"watching\", \"wayne\", \"wayne\", \"wedding\", \"wedding\", \"well\", \"well\", \"well\", \"well\", \"werewolf\", \"whole\", \"whole\", \"wife\", \"wife\", \"wife\", \"winter\", \"witch\", \"witchcraft\", \"woman\", \"woman\", \"woman\", \"woman\", \"wood\", \"wood\", \"wood\", \"work\", \"work\", \"world\", \"world\", \"world\", \"worried\", \"year\", \"year\", \"year\", \"year\", \"yearbr\", \"young\", \"young\", \"young\", \"young\", \"zombie\"]}, \"R\": 30, \"lambda.step\": 0.01, \"plot.opts\": {\"xlab\": \"PC1\", \"ylab\": \"PC2\"}, \"topic.order\": [6, 1, 9, 10, 5, 2, 4, 8, 3, 7]};\n",
       "\n",
       "function LDAvis_load_lib(url, callback){\n",
       "  var s = document.createElement('script');\n",
       "  s.src = url;\n",
       "  s.async = true;\n",
       "  s.onreadystatechange = s.onload = callback;\n",
       "  s.onerror = function(){console.warn(\"failed to load library \" + url);};\n",
       "  document.getElementsByTagName(\"head\")[0].appendChild(s);\n",
       "}\n",
       "\n",
       "if(typeof(LDAvis) !== \"undefined\"){\n",
       "   // already loaded: just create the visualization\n",
       "   !function(LDAvis){\n",
       "       new LDAvis(\"#\" + \"ldavis_el140814691349480565609312681\", ldavis_el140814691349480565609312681_data);\n",
       "   }(LDAvis);\n",
       "}else if(typeof define === \"function\" && define.amd){\n",
       "   // require.js is available: use it to load d3/LDAvis\n",
       "   require.config({paths: {d3: \"https://d3js.org/d3.v5\"}});\n",
       "   require([\"d3\"], function(d3){\n",
       "      window.d3 = d3;\n",
       "      LDAvis_load_lib(\"https://cdn.jsdelivr.net/gh/bmabey/pyLDAvis@3.2.2/pyLDAvis/js/ldavis.v3.0.0.js\", function(){\n",
       "        new LDAvis(\"#\" + \"ldavis_el140814691349480565609312681\", ldavis_el140814691349480565609312681_data);\n",
       "      });\n",
       "    });\n",
       "}else{\n",
       "    // require.js not available: dynamically load d3 & LDAvis\n",
       "    LDAvis_load_lib(\"https://d3js.org/d3.v5.js\", function(){\n",
       "         LDAvis_load_lib(\"https://cdn.jsdelivr.net/gh/bmabey/pyLDAvis@3.2.2/pyLDAvis/js/ldavis.v3.0.0.js\", function(){\n",
       "                 new LDAvis(\"#\" + \"ldavis_el140814691349480565609312681\", ldavis_el140814691349480565609312681_data);\n",
       "            })\n",
       "         });\n",
       "}\n",
       "</script>"
      ],
      "text/plain": [
       "PreparedData(topic_coordinates=              x         y  topics  cluster       Freq\n",
       "topic                                                \n",
       "5      0.319751  0.144268       1        1  41.939306\n",
       "0      0.343136  0.133102       2        1  31.016882\n",
       "8      0.174079  0.025089       3        1   9.436461\n",
       "9      0.159725 -0.242328       4        1   9.039049\n",
       "4      0.060458 -0.260022       5        1   5.379787\n",
       "1     -0.186104  0.055944       6        1   1.315803\n",
       "3     -0.213997  0.039060       7        1   0.908564\n",
       "7     -0.219483  0.035806       8        1   0.360370\n",
       "2     -0.219156  0.035057       9        1   0.328123\n",
       "6     -0.218408  0.034024      10        1   0.275654, topic_info=               Term          Freq         Total Category  logprob  loglift\n",
       "154           movie  50848.000000  50848.000000  Default  30.0000  30.0000\n",
       "50             film  50363.000000  50363.000000  Default  29.0000  29.0000\n",
       "331            show   4204.000000   4204.000000  Default  28.0000  28.0000\n",
       "759          horror   3988.000000   3988.000000  Default  27.0000  27.0000\n",
       "1475         series   2786.000000   2786.000000  Default  26.0000  26.0000\n",
       "...             ...           ...           ...      ...      ...      ...\n",
       "21938        ridley      7.102872      7.949700  Topic10  -6.5115   5.7811\n",
       "4988        nodding      6.441114      7.288094  Topic10  -6.6093   5.7702\n",
       "8802      southwest      6.242182      7.089220  Topic10  -6.6407   5.7665\n",
       "9392   believablebr      5.654961      6.501802  Topic10  -6.7395   5.7542\n",
       "1086    unconnected      5.375948      6.222891  Topic10  -6.7901   5.7475\n",
       "\n",
       "[512 rows x 6 columns], token_table=      Topic      Freq        Term\n",
       "term                             \n",
       "6899     10  0.872527    accentbr\n",
       "6286      9  0.941896  accusation\n",
       "208       1  0.291626      action\n",
       "208       2  0.348332      action\n",
       "208       5  0.359733      action\n",
       "...     ...       ...         ...\n",
       "127       1  0.591384       young\n",
       "127       2  0.083060       young\n",
       "127       3  0.324644       young\n",
       "127       4  0.000949       young\n",
       "9754      4  0.999702      zombie\n",
       "\n",
       "[700 rows x 3 columns], R=30, lambda_step=0.01, plot_opts={'xlab': 'PC1', 'ylab': 'PC2'}, topic_order=[6, 1, 9, 10, 5, 2, 4, 8, 3, 7])"
      ]
     },
     "execution_count": 20,
     "metadata": {},
     "output_type": "execute_result"
    }
   ],
   "source": [
    "import pyLDAvis\n",
    "import pyLDAvis.gensim\n",
    "\n",
    "pyLDAvis.enable_notebook()\n",
    "vis = pyLDAvis.gensim.prepare(lda_model, doc_term_matrix, dictionary)\n",
    "vis"
   ]
  },
  {
   "cell_type": "code",
   "execution_count": null,
   "metadata": {},
   "outputs": [],
   "source": []
  }
 ],
 "metadata": {
  "kernelspec": {
   "display_name": "Python 3.6.5 64-bit",
   "language": "python",
   "name": "python36564bit8af650d9fc184afc892d4d9591d512e8"
  },
  "language_info": {
   "codemirror_mode": {
    "name": "ipython",
    "version": 3
   },
   "file_extension": ".py",
   "mimetype": "text/x-python",
   "name": "python",
   "nbconvert_exporter": "python",
   "pygments_lexer": "ipython3",
   "version": "3.6.5"
  }
 },
 "nbformat": 4,
 "nbformat_minor": 4
}
